{
 "cells": [
  {
   "cell_type": "markdown",
   "source": [
    "# 一、ndarray\n",
    "## 1.ndarray的特性\n",
    "多维性"
   ],
   "metadata": {
    "collapsed": false,
    "pycharm": {
     "name": "#%% md\n"
    }
   }
  },
  {
   "cell_type": "code",
   "execution_count": 3,
   "outputs": [],
   "source": [
    "import numpy as np"
   ],
   "metadata": {
    "collapsed": false,
    "pycharm": {
     "name": "#%%\n"
    }
   }
  },
  {
   "cell_type": "code",
   "execution_count": 11,
   "outputs": [
    {
     "name": "stdout",
     "output_type": "stream",
     "text": [
      "5\n",
      "维度为：0\n",
      "arr的维度 0\n"
     ]
    }
   ],
   "source": [
    "arr = np.array(5)  #创建了一个0维的ndarray数组\n",
    "print(arr)\n",
    "print(f\"维度为：{arr.ndim}\")\n",
    "print('arr的维度', arr.ndim)"
   ],
   "metadata": {
    "collapsed": false,
    "pycharm": {
     "name": "#%%\n"
    }
   }
  },
  {
   "cell_type": "code",
   "execution_count": 13,
   "outputs": [
    {
     "name": "stdout",
     "output_type": "stream",
     "text": [
      "[1 2 3 4]\n",
      "维度为：1\n"
     ]
    }
   ],
   "source": [
    "arr = np.array([1, 2, 3, 4])\n",
    "print(arr)\n",
    "print(f\"维度为：{arr.ndim}\")"
   ],
   "metadata": {
    "collapsed": false,
    "pycharm": {
     "name": "#%%\n"
    }
   }
  },
  {
   "cell_type": "code",
   "execution_count": 14,
   "outputs": [
    {
     "name": "stdout",
     "output_type": "stream",
     "text": [
      "[[1 2 3 4]\n",
      " [5 6 7 8]]\n",
      "维度为：2\n"
     ]
    }
   ],
   "source": [
    "arr = np.array([ [1, 2, 3, 4], [5, 6, 7, 8] ])\n",
    "print(arr)\n",
    "print(f\"维度为：{arr.ndim}\")"
   ],
   "metadata": {
    "collapsed": false,
    "pycharm": {
     "name": "#%%\n"
    }
   }
  },
  {
   "cell_type": "markdown",
   "source": [
    "#同质性"
   ],
   "metadata": {
    "collapsed": false,
    "pycharm": {
     "name": "#%% md\n"
    }
   }
  },
  {
   "cell_type": "code",
   "execution_count": 16,
   "outputs": [
    {
     "name": "stdout",
     "output_type": "stream",
     "text": [
      "['1' 'a']\n"
     ]
    }
   ],
   "source": [
    "arr = np.array([1, 'a'])  #不同的数据类型会被强制转换成相同的数据类型\n",
    "print(arr)"
   ],
   "metadata": {
    "collapsed": false,
    "pycharm": {
     "name": "#%%\n"
    }
   }
  },
  {
   "cell_type": "code",
   "execution_count": 18,
   "outputs": [
    {
     "name": "stdout",
     "output_type": "stream",
     "text": [
      "[1.  2.5]\n"
     ]
    }
   ],
   "source": [
    "arr = np.array([1, 2.5])  #不同的数据类型会被强制转换成相同的数据类型\n",
    "print(arr)"
   ],
   "metadata": {
    "collapsed": false,
    "pycharm": {
     "name": "#%%\n"
    }
   }
  },
  {
   "cell_type": "markdown",
   "source": [
    "2.ndarray属性"
   ],
   "metadata": {
    "collapsed": false,
    "pycharm": {
     "name": "#%% md\n"
    }
   }
  },
  {
   "cell_type": "code",
   "execution_count": 29,
   "outputs": [
    {
     "name": "stdout",
     "output_type": "stream",
     "text": [
      "[[1 2 3]\n",
      " [4 5 6]]\n",
      "数组的形状： (2, 3)\n",
      "数组的维度： 2\n",
      "元素的个数： 6\n",
      "元素的类型： int64\n",
      "元素的转置： [[1 4]\n",
      " [2 5]\n",
      " [3 6]]\n"
     ]
    }
   ],
   "source": [
    "arr = np.array([[1, 2, 3], [4, 5, 6]])\n",
    "print(arr)\n",
    "print('数组的形状：', arr.shape)\n",
    "print('数组的维度：', arr.ndim)\n",
    "print('元素的个数：', arr.size)\n",
    "print('元素的类型：', arr.dtype)\n",
    "print('元素的转置：', arr.T)"
   ],
   "metadata": {
    "collapsed": false,
    "pycharm": {
     "name": "#%%\n"
    }
   }
  },
  {
   "cell_type": "markdown",
   "source": [
    "3. ndarray的创建"
   ],
   "metadata": {
    "collapsed": false,
    "pycharm": {
     "name": "#%% md\n"
    }
   }
  },
  {
   "cell_type": "code",
   "execution_count": 34,
   "outputs": [
    {
     "name": "stdout",
     "output_type": "stream",
     "text": [
      "[4 5 6]\n"
     ]
    }
   ],
   "source": [
    "#基础的创建方法\n",
    "list1 = [4, 5, 6]\n",
    "arr = np.array(list1, dtype=np.float64) #里面实际传入的就是一个列表\n",
    "print(arr) #无逗号"
   ],
   "metadata": {
    "collapsed": false,
    "pycharm": {
     "name": "#%%\n"
    }
   }
  },
  {
   "cell_type": "code",
   "execution_count": 38,
   "outputs": [
    {
     "name": "stdout",
     "output_type": "stream",
     "text": [
      "[4 5 6]\n",
      "[100   5   6]\n"
     ]
    }
   ],
   "source": [
    "arr1 = np.copy(arr)  #复制，arr1元素跟原始的数组相同，但不是一个数组了。不是指向同一块内存空间\n",
    "arr1[0] = 100\n",
    "print(arr)\n",
    "print(arr1)"
   ],
   "metadata": {
    "collapsed": false,
    "pycharm": {
     "name": "#%%\n"
    }
   }
  },
  {
   "cell_type": "code",
   "execution_count": 42,
   "outputs": [
    {
     "name": "stdout",
     "output_type": "stream",
     "text": [
      "[[0 0 0]\n",
      " [0 0 0]]\n",
      "int64\n"
     ]
    }
   ],
   "source": [
    "#预定义形状\n",
    "#全0 全1 未初始化 固定值\n",
    "#全0\n",
    "#arr = np.zeros((2, 3))  #默认是double，若想指定为int:\n",
    "arr = np.zeros((2, 3), dtype=int)\n",
    "print(arr)\n",
    "print(arr.dtype)"
   ],
   "metadata": {
    "collapsed": false,
    "pycharm": {
     "name": "#%%\n"
    }
   }
  },
  {
   "cell_type": "code",
   "execution_count": 45,
   "outputs": [
    {
     "name": "stdout",
     "output_type": "stream",
     "text": [
      "[0. 0. 0. 0. 0. 0. 0. 0. 0. 0.]\n"
     ]
    }
   ],
   "source": [
    "arr = np.zeros(10,) #一维\n",
    "print(arr)"
   ],
   "metadata": {
    "collapsed": false,
    "pycharm": {
     "name": "#%%\n"
    }
   }
  },
  {
   "cell_type": "code",
   "execution_count": 46,
   "outputs": [
    {
     "name": "stdout",
     "output_type": "stream",
     "text": [
      "[[1. 1. 1.]\n",
      " [1. 1. 1.]]\n"
     ]
    }
   ],
   "source": [
    "arr = np.ones((2, 3))\n",
    "print(arr)"
   ],
   "metadata": {
    "collapsed": false,
    "pycharm": {
     "name": "#%%\n"
    }
   }
  },
  {
   "cell_type": "code",
   "execution_count": 53,
   "outputs": [
    {
     "name": "stdout",
     "output_type": "stream",
     "text": [
      "[[1. 1. 1.]\n",
      " [1. 1. 1.]]\n"
     ]
    }
   ],
   "source": [
    "#未初始化\n",
    "arr10 = np.empty((2, 3))\n",
    "print(arr10)"
   ],
   "metadata": {
    "collapsed": false,
    "pycharm": {
     "name": "#%%\n"
    }
   }
  },
  {
   "cell_type": "code",
   "execution_count": 7,
   "outputs": [
    {
     "name": "stdout",
     "output_type": "stream",
     "text": [
      "[[2025 2025 2025 2025]\n",
      " [2025 2025 2025 2025]\n",
      " [2025 2025 2025 2025]]\n"
     ]
    }
   ],
   "source": [
    "arr = np.full((3, 4), 2025) #第二个参数是要填充的数值\n",
    "print(arr)"
   ],
   "metadata": {
    "collapsed": false,
    "pycharm": {
     "name": "#%%\n"
    }
   }
  },
  {
   "cell_type": "code",
   "execution_count": 9,
   "outputs": [
    {
     "name": "stdout",
     "output_type": "stream",
     "text": [
      "[[0 0 0 0]\n",
      " [0 0 0 0]\n",
      " [0 0 0 0]]\n"
     ]
    }
   ],
   "source": [
    "arr1 = np.zeros_like(arr)  #首先，打印的全是0，其次，形状像arr，arr是3行4列的\n",
    "print(arr1)"
   ],
   "metadata": {
    "collapsed": false,
    "pycharm": {
     "name": "#%%\n"
    }
   }
  },
  {
   "cell_type": "code",
   "execution_count": 13,
   "outputs": [
    {
     "name": "stdout",
     "output_type": "stream",
     "text": [
      "[ 2  4  6  8 10]\n"
     ]
    }
   ],
   "source": [
    "#等差数列\n",
    "arr = np.arange(2, 11, 2)  #包头不包尾\n",
    "print(arr)"
   ],
   "metadata": {
    "collapsed": false,
    "pycharm": {
     "name": "#%%\n"
    }
   }
  },
  {
   "cell_type": "code",
   "execution_count": 16,
   "outputs": [
    {
     "name": "stdout",
     "output_type": "stream",
     "text": [
      "[ 0.   2.5  5.   7.5 10. ]\n"
     ]
    }
   ],
   "source": [
    "#等间隔的数列\n",
    "arr = np.linspace(0, 10, 5)\n",
    "print(arr)"
   ],
   "metadata": {
    "collapsed": false,
    "pycharm": {
     "name": "#%%\n"
    }
   }
  },
  {
   "cell_type": "code",
   "execution_count": 18,
   "outputs": [
    {
     "name": "stdout",
     "output_type": "stream",
     "text": [
      "[1.00000000e+00 1.33483985e+00 1.78179744e+00 2.37841423e+00\n",
      " 3.17480210e+00 4.23785238e+00 5.65685425e+00 7.55099450e+00\n",
      " 1.00793684e+01 1.34543426e+01 1.79593928e+01 2.39729132e+01\n",
      " 3.20000000e+01 4.27148753e+01 5.70175180e+01 7.61092554e+01\n",
      " 1.01593667e+02 1.35611276e+02 1.81019336e+02 2.41631824e+02\n",
      " 3.22539789e+02 4.30538965e+02 5.74700569e+02 7.67133223e+02\n",
      " 1.02400000e+03]\n"
     ]
    }
   ],
   "source": [
    "#对数间隔数列\n",
    "arr = np.logspace(0, 10, 25, base=2)  #25是份数\n",
    "print(arr)"
   ],
   "metadata": {
    "collapsed": false,
    "pycharm": {
     "name": "#%%\n"
    }
   }
  },
  {
   "cell_type": "code",
   "execution_count": 23,
   "outputs": [
    {
     "name": "stdout",
     "output_type": "stream",
     "text": [
      "[[1 0 0 0]\n",
      " [0 1 0 0]\n",
      " [0 0 1 0]]\n"
     ]
    }
   ],
   "source": [
    "#特殊矩阵\n",
    "#单位矩阵:主对角线上的数字为1， 其他的数字为0\n",
    "arr = np.eye(3, 4, dtype=int) #无小括号\n",
    "print(arr)"
   ],
   "metadata": {
    "collapsed": false,
    "pycharm": {
     "name": "#%%\n"
    }
   }
  },
  {
   "cell_type": "code",
   "execution_count": 27,
   "outputs": [
    {
     "name": "stdout",
     "output_type": "stream",
     "text": [
      "[[5 0 0 0]\n",
      " [0 1 0 0]\n",
      " [0 0 2 0]\n",
      " [0 0 0 3]]\n"
     ]
    }
   ],
   "source": [
    "#对角矩阵:主对角线上 非0，其他数字为0\n",
    "arr = np.diag([5,1,2,3])  #主对角线上的数字\n",
    "print(arr)"
   ],
   "metadata": {
    "collapsed": false,
    "pycharm": {
     "name": "#%%\n"
    }
   }
  },
  {
   "cell_type": "code",
   "execution_count": 33,
   "outputs": [
    {
     "name": "stdout",
     "output_type": "stream",
     "text": [
      "[[0.09268675 0.20769149 0.57037272]\n",
      " [0.92232974 0.81775374 0.5918853 ]]\n"
     ]
    }
   ],
   "source": [
    "#随机数组的生成\n",
    "#生成0到1之间的随机浮点数（均匀分布）\n",
    "arr = np.random.rand(2, 3) #形状\n",
    "print(arr)"
   ],
   "metadata": {
    "collapsed": false,
    "pycharm": {
     "name": "#%%\n"
    }
   }
  },
  {
   "cell_type": "code",
   "execution_count": 35,
   "outputs": [
    {
     "name": "stdout",
     "output_type": "stream",
     "text": [
      "[[4.89814938 3.11872023 3.31936811]\n",
      " [3.68079551 4.67712025 5.2318884 ]]\n"
     ]
    }
   ],
   "source": [
    "#生成指定范围区间的随机浮点数的数组\n",
    "arr = np.random.uniform(3, 6, (2, 3))\n",
    "print(arr)"
   ],
   "metadata": {
    "collapsed": false,
    "pycharm": {
     "name": "#%%\n"
    }
   }
  },
  {
   "cell_type": "code",
   "execution_count": 37,
   "outputs": [
    {
     "name": "stdout",
     "output_type": "stream",
     "text": [
      "[[ 6 27 10]\n",
      " [ 5 24 20]]\n"
     ]
    }
   ],
   "source": [
    "#生成指定范围区间的随机整数的数组\n",
    "arr = np.random.randint(3, 30, (2, 3))\n",
    "print(arr)"
   ],
   "metadata": {
    "collapsed": false,
    "pycharm": {
     "name": "#%%\n"
    }
   }
  },
  {
   "cell_type": "code",
   "execution_count": 40,
   "outputs": [
    {
     "name": "stdout",
     "output_type": "stream",
     "text": [
      "[[ 0.7480949   0.6555485  -0.86360014]\n",
      " [ 0.01743134  1.7750584  -0.69330777]]\n"
     ]
    }
   ],
   "source": [
    "#生成随机数列 （正态分布）\n",
    "#两边小，中间的概率大\n",
    "arr = np.random.randn(2, 3)\n",
    "print(arr)"
   ],
   "metadata": {
    "collapsed": false,
    "pycharm": {
     "name": "#%%\n"
    }
   }
  },
  {
   "cell_type": "code",
   "execution_count": 48,
   "outputs": [
    {
     "name": "stdout",
     "output_type": "stream",
     "text": [
      "[[4 5 7 8 3]\n",
      " [1 7 9 6 4]]\n"
     ]
    }
   ],
   "source": [
    "#设置随机种子\n",
    "np.random.seed(20) #如果不设置种子，则每次运行结果不一样\n",
    "arr = np.random.randint(1, 10, (2, 5))\n",
    "print(arr)"
   ],
   "metadata": {
    "collapsed": false,
    "pycharm": {
     "name": "#%%\n"
    }
   }
  },
  {
   "cell_type": "markdown",
   "source": [
    "4. ndarray的数据类型\n",
    "布尔类型 bool\n",
    "整数类型 int uint\n",
    "浮点数 float\n",
    "复数 complex\n"
   ],
   "metadata": {
    "collapsed": false,
    "pycharm": {
     "name": "#%% md\n"
    }
   }
  },
  {
   "cell_type": "code",
   "execution_count": 50,
   "outputs": [
    {
     "name": "stdout",
     "output_type": "stream",
     "text": [
      "[ True False  True False]\n"
     ]
    }
   ],
   "source": [
    "arr = np.array([1, 0, 1, 0], dtype='bool')\n",
    "print(arr)"
   ],
   "metadata": {
    "collapsed": false,
    "pycharm": {
     "name": "#%%\n"
    }
   }
  },
  {
   "cell_type": "code",
   "execution_count": 57,
   "outputs": [
    {
     "name": "stdout",
     "output_type": "stream",
     "text": [
      "[1 0 1 0]\n"
     ]
    }
   ],
   "source": [
    "arr = np.array([1, 0, 1, 0], dtype='int')\n",
    "print(arr)"
   ],
   "metadata": {
    "collapsed": false,
    "pycharm": {
     "name": "#%%\n"
    }
   }
  },
  {
   "cell_type": "markdown",
   "source": [
    "5.索引与切片"
   ],
   "metadata": {
    "collapsed": false,
    "pycharm": {
     "name": "#%% md\n"
    }
   }
  },
  {
   "cell_type": "code",
   "execution_count": 65,
   "outputs": [
    {
     "name": "stdout",
     "output_type": "stream",
     "text": [
      "[66 83 52 13 37 42 75 97 96 86 32 68 77 43  3 40 97 87 80  8]\n",
      "66\n",
      "[66 83 52 13 37 42 75 97 96 86 32 68 77 43  3 40 97 87 80  8]\n",
      "[52 13 37 42 75 97 96 86 32 68 77 43  3 40 97 87 80  8]\n"
     ]
    }
   ],
   "source": [
    "#一维数组的索引与切片\n",
    "arr = np.random.randint(1, 100, 20) #最小值1，最大值99，一共生成20个这样的数\n",
    "print(arr)\n",
    "print(arr[0])\n",
    "print(arr[:]) #获取全部的数据\n",
    "print(arr[2:]) #从下标为2开始"
   ],
   "metadata": {
    "collapsed": false,
    "pycharm": {
     "name": "#%%\n"
    }
   }
  },
  {
   "cell_type": "code",
   "execution_count": 70,
   "outputs": [
    {
     "name": "stdout",
     "output_type": "stream",
     "text": [
      "[52 13 37 42]\n",
      "[66 83 52 13 37 42 75 97 96 86 32 68 77 43 40 97 87 80]\n",
      "[13 37 42 32 43 40]\n"
     ]
    }
   ],
   "source": [
    "print(arr[2:6]) #包左不包右\n",
    "print(arr[arr>10]) #打印全部大于10的元素(布尔索引)\n",
    "print(arr[(arr > 10) & (arr < 50)])  #记得加括号"
   ],
   "metadata": {
    "collapsed": false,
    "pycharm": {
     "name": "#%%\n"
    }
   }
  },
  {
   "cell_type": "code",
   "execution_count": 72,
   "outputs": [
    {
     "name": "stdout",
     "output_type": "stream",
     "text": [
      "[[67 36 88 50 75 28 95 51]\n",
      " [ 2 22  6  7 42 69 83 11]\n",
      " [65  5 76 16 55 12  5 23]\n",
      " [ 7 60 45 74 12 19 53 65]]\n"
     ]
    }
   ],
   "source": [
    "#二维数组的索引与切片\n",
    "arr = np.random.randint(1, 100, (4, 8))\n",
    "print(arr)"
   ],
   "metadata": {
    "collapsed": false,
    "pycharm": {
     "name": "#%%\n"
    }
   }
  },
  {
   "cell_type": "code",
   "execution_count": 82,
   "outputs": [
    {
     "name": "stdout",
     "output_type": "stream",
     "text": [
      "2\n",
      "[[67 36 88 50 75 28 95 51]\n",
      " [ 2 22  6  7 42 69 83 11]\n",
      " [65  5 76 16 55 12  5 23]\n",
      " [ 7 60 45 74 12 19 53 65]]\n",
      "[ 6  7 42]\n"
     ]
    }
   ],
   "source": [
    "print(arr[1][0])\n",
    "print(arr[:,:]) #原样输出\n",
    "#print(arr[1,:]) #输出下标为1的一整行\n",
    "print(arr[1, 2:5])\n"
   ],
   "metadata": {
    "collapsed": false,
    "pycharm": {
     "name": "#%%\n"
    }
   }
  },
  {
   "cell_type": "markdown",
   "source": [
    "#要第一行，大于30的元素\n",
    "print(arr[0] [arr[0] > 30])"
   ],
   "metadata": {
    "collapsed": false,
    "pycharm": {
     "name": "#%% md\n"
    }
   }
  },
  {
   "cell_type": "code",
   "execution_count": 91,
   "outputs": [
    {
     "name": "stdout",
     "output_type": "stream",
     "text": [
      "[88 50 75]\n"
     ]
    }
   ],
   "source": [
    "#要第一行，输出88 - 75\n",
    "print(arr[0, 2:5])"
   ],
   "metadata": {
    "collapsed": false,
    "pycharm": {
     "name": "#%%\n"
    }
   }
  },
  {
   "cell_type": "markdown",
   "source": [
    "5.ndarray运算"
   ],
   "metadata": {
    "collapsed": false,
    "pycharm": {
     "name": "#%% md\n"
    }
   }
  },
  {
   "cell_type": "code",
   "execution_count": 96,
   "outputs": [
    {
     "name": "stdout",
     "output_type": "stream",
     "text": [
      "[5 7 9]\n",
      "[-3 -3 -3]\n",
      "[ 4 10 18]\n",
      "[0.25 0.4  0.5 ]\n",
      "[1 4 9]\n"
     ]
    }
   ],
   "source": [
    "#算数的运算\n",
    "a = np.array([1, 2, 3])\n",
    "b = np.array([4, 5, 6])\n",
    "print(a + b)\n",
    "print(a - b)\n",
    "print(a * b)\n",
    "print(a / b)\n",
    "print(a ** 2)"
   ],
   "metadata": {
    "collapsed": false,
    "pycharm": {
     "name": "#%%\n"
    }
   }
  },
  {
   "cell_type": "code",
   "execution_count": 99,
   "outputs": [
    {
     "name": "stdout",
     "output_type": "stream",
     "text": [
      "[[ 4  5  6]\n",
      " [ 7  8  9]\n",
      " [10 11 12]]\n"
     ]
    }
   ],
   "source": [
    "a = np.array([[1, 2, 3], [4, 5, 6], [7, 8, 9]])\n",
    "print(a + 3) #数组每个元素都+3"
   ],
   "metadata": {
    "collapsed": false,
    "pycharm": {
     "name": "#%%\n"
    }
   }
  },
  {
   "cell_type": "code",
   "execution_count": 101,
   "outputs": [
    {
     "name": "stdout",
     "output_type": "stream",
     "text": [
      "[[5 6 7]\n",
      " [6 7 8]\n",
      " [7 8 9]]\n"
     ]
    }
   ],
   "source": [
    "#广播机制 （互相的行与列，能变过去就行）\n",
    "a = np.array([1, 2, 3]) #1*3\n",
    "b = np.array([[4], [5], [6]]) #3*1\n",
    "print(a + b)"
   ],
   "metadata": {
    "collapsed": false,
    "pycharm": {
     "name": "#%%\n"
    }
   }
  },
  {
   "cell_type": "code",
   "execution_count": 103,
   "outputs": [
    {
     "name": "stdout",
     "output_type": "stream",
     "text": [
      "[[ 21  27  33]\n",
      " [ 57  72  87]\n",
      " [ 93 117 141]]\n"
     ]
    }
   ],
   "source": [
    "#矩阵的运算\n",
    "a = np.array([[1, 2, 3], [4, 5, 6], [7, 8, 9]])\n",
    "b = np.array([[4, 5, 6], [7, 8, 9], [1, 2, 3]])\n",
    "print(a @ b) #矩阵乘法"
   ],
   "metadata": {
    "collapsed": false,
    "pycharm": {
     "name": "#%%\n"
    }
   }
  },
  {
   "cell_type": "markdown",
   "source": [
    "2.3 numpy中的常用函数\n",
    "1.基本的数学函数"
   ],
   "metadata": {
    "collapsed": false,
    "pycharm": {
     "name": "#%% md\n"
    }
   }
  },
  {
   "cell_type": "code",
   "execution_count": 106,
   "outputs": [
    {
     "name": "stdout",
     "output_type": "stream",
     "text": [
      "3.0\n",
      "[1. 2. 3.]\n",
      "[1. 5. 9.]\n"
     ]
    }
   ],
   "source": [
    "#计算平方根\n",
    "print(np.sqrt(9))\n",
    "print(np.sqrt([1, 4, 9]))\n",
    "arr = np.array([1, 25, 81])\n",
    "print(np.sqrt(arr))"
   ],
   "metadata": {
    "collapsed": false,
    "pycharm": {
     "name": "#%%\n"
    }
   }
  },
  {
   "cell_type": "code",
   "execution_count": 109,
   "outputs": [
    {
     "name": "stdout",
     "output_type": "stream",
     "text": [
      "2.718281828459045\n"
     ]
    }
   ],
   "source": [
    "#计算指数\n",
    "print(np.exp(1))  #计算e的多少次方"
   ],
   "metadata": {
    "collapsed": false,
    "pycharm": {
     "name": "#%%\n"
    }
   }
  },
  {
   "cell_type": "code",
   "execution_count": 110,
   "outputs": [
    {
     "name": "stdout",
     "output_type": "stream",
     "text": [
      "0.9969486348916096\n"
     ]
    }
   ],
   "source": [
    "#计算自然对数 lnx\n",
    "print(np.log(2.71))"
   ],
   "metadata": {
    "collapsed": false,
    "pycharm": {
     "name": "#%%\n"
    }
   }
  },
  {
   "cell_type": "code",
   "execution_count": 114,
   "outputs": [
    {
     "name": "stdout",
     "output_type": "stream",
     "text": [
      "1.2246467991473532e-16\n"
     ]
    }
   ],
   "source": [
    "#计算正弦值、余弦值\n",
    "print(np.sin(np.pi))"
   ],
   "metadata": {
    "collapsed": false,
    "pycharm": {
     "name": "#%%\n"
    }
   }
  },
  {
   "cell_type": "code",
   "execution_count": 116,
   "outputs": [
    {
     "name": "stdout",
     "output_type": "stream",
     "text": [
      "[1 1 2 3]\n"
     ]
    }
   ],
   "source": [
    "#计算绝对值\n",
    "arr = np.array([-1, 1, 2, -3])\n",
    "print(np.abs(arr))"
   ],
   "metadata": {
    "collapsed": false,
    "pycharm": {
     "name": "#%%\n"
    }
   }
  },
  {
   "cell_type": "code",
   "execution_count": 118,
   "outputs": [
    {
     "name": "stdout",
     "output_type": "stream",
     "text": [
      "[1 1 4 9]\n"
     ]
    }
   ],
   "source": [
    "#计算a的b次幂\n",
    "arr = np.array([-1, 1, 2, -3])\n",
    "print(np.power(arr, 2))  #每个元素都进行2次幂"
   ],
   "metadata": {
    "collapsed": false,
    "pycharm": {
     "name": "#%%\n"
    }
   }
  },
  {
   "cell_type": "code",
   "execution_count": 121,
   "outputs": [
    {
     "name": "stdout",
     "output_type": "stream",
     "text": [
      "[ 3.  4. 10.]\n"
     ]
    }
   ],
   "source": [
    "#四舍五入\n",
    "print(np.round([3.2, 4.5, 9.6])) #4.5-->4; 4.51-->5"
   ],
   "metadata": {
    "collapsed": false,
    "pycharm": {
     "name": "#%%\n"
    }
   }
  },
  {
   "cell_type": "code",
   "execution_count": 126,
   "outputs": [
    {
     "name": "stdout",
     "output_type": "stream",
     "text": [
      "[  2.  26.  82. 100.]\n",
      "[  1.  25.  81. 100.]\n"
     ]
    }
   ],
   "source": [
    "#向上取整，向下取整\n",
    "arr = np.array([1.6, 25.1, 81.7, 100])\n",
    "print(np.ceil(arr)) #向上取整\n",
    "print(np.floor(arr)) #向下取整"
   ],
   "metadata": {
    "collapsed": false,
    "pycharm": {
     "name": "#%%\n"
    }
   }
  },
  {
   "cell_type": "code",
   "execution_count": 130,
   "outputs": [
    {
     "data": {
      "text/plain": "array([False,  True, False])"
     },
     "execution_count": 130,
     "metadata": {},
     "output_type": "execute_result"
    }
   ],
   "source": [
    "#监测缺失值\n",
    "np.isnan([1, np.nan, 3])"
   ],
   "metadata": {
    "collapsed": false,
    "pycharm": {
     "name": "#%%\n"
    }
   }
  },
  {
   "cell_type": "markdown",
   "source": [
    "2. 统计函数\n",
    "求和、计算平均值、计算中位数、标准差、方差\n",
    "查找最大值、最小值\n",
    "计算分位数，累计和、累计差"
   ],
   "metadata": {
    "collapsed": false,
    "pycharm": {
     "name": "#%% md\n"
    }
   }
  },
  {
   "cell_type": "code",
   "execution_count": 132,
   "outputs": [
    {
     "name": "stdout",
     "output_type": "stream",
     "text": [
      "[ 6 18 16 17  7  7  8 17]\n"
     ]
    }
   ],
   "source": [
    "arr = np.random.randint(1, 20, 8)\n",
    "print(arr)"
   ],
   "metadata": {
    "collapsed": false,
    "pycharm": {
     "name": "#%%\n"
    }
   }
  },
  {
   "cell_type": "code",
   "execution_count": 139,
   "outputs": [
    {
     "name": "stdout",
     "output_type": "stream",
     "text": [
      "96\n",
      "6\n",
      "12.0\n",
      "中位数是： 12.0\n"
     ]
    }
   ],
   "source": [
    "#求和\n",
    "print(np.sum(arr))\n",
    "print(np.sum([1,2,3]))\n",
    "# 计算平均值\n",
    "print(np.mean(arr))\n",
    "#计算中位数\n",
    "print('中位数是：',np.median(arr)) #注意偶数情况"
   ],
   "metadata": {
    "collapsed": false,
    "pycharm": {
     "name": "#%%\n"
    }
   }
  },
  {
   "cell_type": "code",
   "execution_count": 141,
   "outputs": [
    {
     "name": "stdout",
     "output_type": "stream",
     "text": [
      "0.6666666666666666\n",
      "0.816496580927726\n"
     ]
    }
   ],
   "source": [
    "#计算标准差、方差\n",
    "#1, 2, 3的平均值：2\n",
    "#(（1-2）^2 + (2-2)^2 + (3-2)^2) / 3 = 0.666\n",
    "print(np.var([1, 2, 3])) #方差\n",
    "print(np.std([1, 2, 3])) #标准差"
   ],
   "metadata": {
    "collapsed": false,
    "pycharm": {
     "name": "#%%\n"
    }
   }
  },
  {
   "cell_type": "code",
   "execution_count": 144,
   "outputs": [
    {
     "name": "stdout",
     "output_type": "stream",
     "text": [
      "18 1\n"
     ]
    }
   ],
   "source": [
    "#计算最大值、最小值\n",
    "print(np.max(arr), np.argmax(arr)) #第二个值是下标"
   ],
   "metadata": {
    "collapsed": false,
    "pycharm": {
     "name": "#%%\n"
    }
   }
  },
  {
   "cell_type": "code",
   "execution_count": 147,
   "outputs": [
    {
     "name": "stdout",
     "output_type": "stream",
     "text": [
      "6.0\n"
     ]
    }
   ],
   "source": [
    "#中位数：median\n",
    "print(np.percentile(arr, 0))"
   ],
   "metadata": {
    "collapsed": false,
    "pycharm": {
     "name": "#%%\n"
    }
   }
  },
  {
   "cell_type": "code",
   "execution_count": 150,
   "outputs": [
    {
     "name": "stdout",
     "output_type": "stream",
     "text": [
      "6\n",
      "[1 3 6]\n",
      "[1 2 6]\n"
     ]
    }
   ],
   "source": [
    "#累计和\n",
    "arr = np.array([1, 2, 3])\n",
    "print(np.sum(arr)) #之和\n",
    "print(np.cumsum(arr)) #累计和\n",
    "print(np.cumprod(arr)) #累积积"
   ],
   "metadata": {
    "collapsed": false,
    "pycharm": {
     "name": "#%%\n"
    }
   }
  },
  {
   "cell_type": "markdown",
   "source": [
    "#比较函数\n",
    "比较是否大于、小于、等于\n",
    "逻辑与、或、非\n",
    "检查数组中是否有一个True,是否所有的都为True,自定义条件"
   ],
   "metadata": {
    "collapsed": false,
    "pycharm": {
     "name": "#%% md\n"
    }
   }
  },
  {
   "cell_type": "code",
   "execution_count": 157,
   "outputs": [
    {
     "name": "stdout",
     "output_type": "stream",
     "text": [
      "[False False  True  True  True]\n",
      "[ True  True False False False]\n",
      "[False False  True False False]\n",
      "[False  True False]\n"
     ]
    }
   ],
   "source": [
    "#是否大于\n",
    "print(np.greater([3, 4, 5, 6, 7], 4))\n",
    "print(np.less([3, 4, 5, 6, 7], 5))\n",
    "print(np.equal([3, 4, 5, 6, 7], 5))\n",
    "\n",
    "\n",
    "print(np.equal([3, 4, 5],[4, 4, 4])) #对应位置相比"
   ],
   "metadata": {
    "collapsed": false,
    "pycharm": {
     "name": "#%%\n"
    }
   }
  },
  {
   "cell_type": "code",
   "execution_count": 163,
   "outputs": [
    {
     "name": "stdout",
     "output_type": "stream",
     "text": [
      "[ True False]\n",
      "[ True  True]\n",
      "[False  True]\n"
     ]
    }
   ],
   "source": [
    "print(np.logical_and([5,0],[1,1])) #逻辑与\n",
    "print(np.logical_or([1,0],[2,2])) #逻辑或\n",
    "print(np.logical_not([1,0])) #逻辑非"
   ],
   "metadata": {
    "collapsed": false,
    "pycharm": {
     "name": "#%%\n"
    }
   }
  },
  {
   "cell_type": "code",
   "execution_count": 169,
   "outputs": [
    {
     "name": "stdout",
     "output_type": "stream",
     "text": [
      "True\n",
      "True\n"
     ]
    }
   ],
   "source": [
    "#检查元素是否至少有一个元素为True\n",
    "print(np.any([0, 1, 0, 0]))\n",
    "#检查元素是否全部都是true\n",
    "print(np.all([1, 1]))"
   ],
   "metadata": {
    "collapsed": false,
    "pycharm": {
     "name": "#%%\n"
    }
   }
  },
  {
   "cell_type": "code",
   "execution_count": 174,
   "outputs": [
    {
     "name": "stdout",
     "output_type": "stream",
     "text": [
      "[0 0 0 4 5]\n",
      "[0 0 0 1 1]\n"
     ]
    }
   ],
   "source": [
    "#自定义条件\n",
    "#print(np.where(条件， 符合条件，不符合条件))\n",
    "arr = np.array([1, 2, 3, 4, 5])\n",
    "print(np.where(arr>3, arr, 0)) #arr中元素大于3，则从arr中取，否则就是0\n",
    "print(np.where(arr>3, 1, 0))"
   ],
   "metadata": {
    "collapsed": false,
    "pycharm": {
     "name": "#%%\n"
    }
   }
  },
  {
   "cell_type": "code",
   "execution_count": 176,
   "outputs": [
    {
     "name": "stdout",
     "output_type": "stream",
     "text": [
      "[91 83 82 55 79 89 66 97 86 57 61 73 70 83 85 71 94 54 56 68]\n",
      "['及格' '及格' '及格' '不及格' '及格' '及格' '及格' '及格' '及格' '不及格' '及格' '及格' '及格' '及格'\n",
      " '及格' '及格' '及格' '不及格' '不及格' '及格']\n"
     ]
    }
   ],
   "source": [
    "score = np.random.randint(50, 101, 20)\n",
    "print(score)\n",
    "print(np.where(score < 60, \"不及格\", \"及格\"))"
   ],
   "metadata": {
    "collapsed": false,
    "pycharm": {
     "name": "#%%\n"
    }
   }
  },
  {
   "cell_type": "code",
   "execution_count": 183,
   "outputs": [
    {
     "name": "stdout",
     "output_type": "stream",
     "text": [
      "[45 48 65 68 68 10 84 22 37 88 71 89 89 13 59 66 40 88 47 89]\n",
      "[10 13 22 37 40 45 47 48 59 65 66 68 68 71 84 88 88 89 89 89]\n",
      "[ 5 13  7  8 16  0 18  1 14  2 15  3  4 10  6 17  9 11 12 19]\n",
      "[45 48 65 68 68 10 84 22 37 88 71 89 89 13 59 66 40 88 47 89]\n"
     ]
    }
   ],
   "source": [
    "#排序函数\n",
    "np.random.seed(0)\n",
    "arr = np.random.randint(1, 100, 20)\n",
    "print(arr)\n",
    "#arr.sort() #返回值是none，改变了原来数组\n",
    "print(np.sort(arr)) #不改变原数组\n",
    "print(np.argsort(arr))\n",
    "print(arr)"
   ],
   "metadata": {
    "collapsed": false,
    "pycharm": {
     "name": "#%%\n"
    }
   }
  },
  {
   "cell_type": "code",
   "execution_count": 185,
   "outputs": [
    {
     "name": "stdout",
     "output_type": "stream",
     "text": [
      "[10 13 22 37 40 45 47 48 59 65 66 68 71 84 88 89]\n"
     ]
    }
   ],
   "source": [
    "#去重函数\n",
    "print(np.unique(arr)) #去重与排序"
   ],
   "metadata": {
    "collapsed": false,
    "pycharm": {
     "name": "#%%\n"
    }
   }
  },
  {
   "cell_type": "code",
   "execution_count": 188,
   "outputs": [
    {
     "name": "stdout",
     "output_type": "stream",
     "text": [
      "[3 5 7]\n",
      "[1 2 3 2 3 4]\n"
     ]
    }
   ],
   "source": [
    "#数组的拼接\n",
    "arr1 = np.array([1,2,3])\n",
    "arr2 = np.array([2,3,4])\n",
    "print(arr1 + arr2) #并不能完成拼接\n",
    "print(np.concatenate((arr1, arr2))) #注意括号"
   ],
   "metadata": {
    "collapsed": false,
    "pycharm": {
     "name": "#%%\n"
    }
   }
  },
  {
   "cell_type": "code",
   "execution_count": 190,
   "outputs": [
    {
     "name": "stdout",
     "output_type": "stream",
     "text": [
      "[array([45, 48, 65, 68, 68]), array([10, 84, 22, 37, 88]), array([71, 89, 89, 13, 59]), array([66, 40, 88, 47, 89])]\n"
     ]
    }
   ],
   "source": [
    "#数组的分割\n",
    "print(np.split(arr, 4)) #分成4份（需要能等分）"
   ],
   "metadata": {
    "collapsed": false,
    "pycharm": {
     "name": "#%%\n"
    }
   }
  },
  {
   "cell_type": "code",
   "execution_count": 192,
   "outputs": [
    {
     "name": "stdout",
     "output_type": "stream",
     "text": [
      "[[45 48 65 68 68]\n",
      " [10 84 22 37 88]\n",
      " [71 89 89 13 59]\n",
      " [66 40 88 47 89]]\n"
     ]
    }
   ],
   "source": [
    "#调整数组形状\n",
    "print(np.reshape(arr, [4, 5])) #4行5列"
   ],
   "metadata": {
    "collapsed": false,
    "pycharm": {
     "name": "#%%\n"
    }
   }
  },
  {
   "cell_type": "markdown",
   "source": [
    "练习：\n",
    "1.某城市一周的最高气温为：28，30，29，31，32，30，29\n",
    "计算平均气温，最高气温，最低气温\n",
    "找出气温超过30度的天数"
   ],
   "metadata": {
    "collapsed": false,
    "pycharm": {
     "name": "#%% md\n"
    }
   }
  },
  {
   "cell_type": "code",
   "execution_count": 198,
   "outputs": [
    {
     "name": "stdout",
     "output_type": "stream",
     "text": [
      "平均气温为:29.857142857142858, \n",
      "最高气温为:32, \n",
      "最低气温为:28, \n",
      "超过30度的天数:2\n"
     ]
    }
   ],
   "source": [
    "arr = np.array([28,30,29,31,32,30,29])\n",
    "count = 0;\n",
    "avg = np.average(arr)\n",
    "max = np.max(arr)\n",
    "min = np.min(arr)\n",
    "for i in arr:\n",
    "    if(i > 30): #这里的 for i in arr，i 本身是数组中的元素值\n",
    "        count = count + 1\n",
    "print(f\"平均气温为:{avg}, \\n最高气温为:{max}, \\n最低气温为:{min}, \\n超过30度的天数:{count}\")\n",
    "\n",
    "#print(len(arr[arr>30]))"
   ],
   "metadata": {
    "collapsed": false,
    "pycharm": {
     "name": "#%%\n"
    }
   }
  },
  {
   "cell_type": "code",
   "execution_count": 207,
   "outputs": [
    {
     "name": "stdout",
     "output_type": "stream",
     "text": [
      "[[5 0 3 3]\n",
      " [7 9 3 5]\n",
      " [2 4 7 6]]\n",
      "每列的最大值： [7 9 7 6]\n",
      "每行的最小值： [0 3 2]\n",
      "[[-1  0 -1 -1]\n",
      " [-1 -1 -1 -1]\n",
      " [ 2  4 -1  6]]\n"
     ]
    }
   ],
   "source": [
    "np.random.seed(0)\n",
    "arr = np.random.randint(0, 10, (3, 4))\n",
    "print(arr)\n",
    "print('每列的最大值：', np.max(arr, axis=0))\n",
    "print('每行的最小值：', np.min(arr, axis=1))\n",
    "print(np.where(arr% 2==1, -1, arr))\n"
   ],
   "metadata": {
    "collapsed": false,
    "pycharm": {
     "name": "#%%\n"
    }
   }
  }
 ],
 "metadata": {
  "kernelspec": {
   "display_name": "Python 3",
   "language": "python",
   "name": "python3"
  },
  "language_info": {
   "codemirror_mode": {
    "name": "ipython",
    "version": 2
   },
   "file_extension": ".py",
   "mimetype": "text/x-python",
   "name": "python",
   "nbconvert_exporter": "python",
   "pygments_lexer": "ipython2",
   "version": "2.7.6"
  }
 },
 "nbformat": 4,
 "nbformat_minor": 0
}
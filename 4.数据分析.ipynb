{
 "cells": [
  {
   "cell_type": "code",
   "execution_count": 6,
   "outputs": [],
   "source": [
    "#数据的导入\n",
    "import pandas as pd\n",
    "import numpy as np\n",
    "\n",
    "df = pd.read_csv(\"/Users/liuyuxin/python_study/analysis/code/data/employees.csv\")\n",
    "#type(df)  #是DataFrame类型\n",
    "\n",
    "\n",
    "#数据的导出\n",
    "df = df.tail()\n",
    "df.to_csv('data/new.csv')"
   ],
   "metadata": {
    "collapsed": false,
    "pycharm": {
     "name": "#%%\n"
    }
   }
  },
  {
   "cell_type": "code",
   "execution_count": 8,
   "outputs": [
    {
     "data": {
      "text/plain": "                                               users\n0  {'id': 1, 'name': '张三', 'age': 28, 'email': 'z...\n1  {'id': 2, 'name': '李四', 'age': 35, 'email': 'l...\n2  {'id': 3, 'name': '王五', 'age': 24, 'email': 'w...",
      "text/html": "<div>\n<style scoped>\n    .dataframe tbody tr th:only-of-type {\n        vertical-align: middle;\n    }\n\n    .dataframe tbody tr th {\n        vertical-align: top;\n    }\n\n    .dataframe thead th {\n        text-align: right;\n    }\n</style>\n<table border=\"1\" class=\"dataframe\">\n  <thead>\n    <tr style=\"text-align: right;\">\n      <th></th>\n      <th>users</th>\n    </tr>\n  </thead>\n  <tbody>\n    <tr>\n      <th>0</th>\n      <td>{'id': 1, 'name': '张三', 'age': 28, 'email': 'z...</td>\n    </tr>\n    <tr>\n      <th>1</th>\n      <td>{'id': 2, 'name': '李四', 'age': 35, 'email': 'l...</td>\n    </tr>\n    <tr>\n      <th>2</th>\n      <td>{'id': 3, 'name': '王五', 'age': 24, 'email': 'w...</td>\n    </tr>\n  </tbody>\n</table>\n</div>"
     },
     "execution_count": 8,
     "metadata": {},
     "output_type": "execute_result"
    }
   ],
   "source": [
    "#json数据\n",
    "df = pd.read_json(\"data/test.json\")\n",
    "df"
   ],
   "metadata": {
    "collapsed": false,
    "pycharm": {
     "name": "#%%\n"
    }
   }
  },
  {
   "cell_type": "code",
   "execution_count": 13,
   "outputs": [
    {
     "name": "stdout",
     "output_type": "stream",
     "text": [
      "0    1.0\n",
      "1    2.0\n",
      "2    NaN\n",
      "3    3.0\n",
      "dtype: float64\n",
      "0    False\n",
      "1    False\n",
      "2     True\n",
      "3    False\n",
      "dtype: bool\n",
      "0    False\n",
      "1    False\n",
      "2     True\n",
      "3    False\n",
      "dtype: bool\n"
     ]
    },
    {
     "ename": "ValueError",
     "evalue": "Shape of passed values is (3, 1), indices imply (3, 3)",
     "output_type": "error",
     "traceback": [
      "\u001B[0;31m---------------------------------------------------------------------------\u001B[0m",
      "\u001B[0;31mValueError\u001B[0m                                Traceback (most recent call last)",
      "Input \u001B[0;32mIn [13]\u001B[0m, in \u001B[0;36m<cell line: 9>\u001B[0;34m()\u001B[0m\n\u001B[1;32m      6\u001B[0m \u001B[38;5;28mprint\u001B[39m(s\u001B[38;5;241m.\u001B[39misna())\n\u001B[1;32m      7\u001B[0m \u001B[38;5;28mprint\u001B[39m(s\u001B[38;5;241m.\u001B[39misnull())\n\u001B[0;32m----> 9\u001B[0m df \u001B[38;5;241m=\u001B[39m \u001B[43mpd\u001B[49m\u001B[38;5;241;43m.\u001B[39;49m\u001B[43mDataFrame\u001B[49m\u001B[43m(\u001B[49m\u001B[43m[\u001B[49m\u001B[38;5;241;43m1\u001B[39;49m\u001B[43m,\u001B[49m\u001B[43m \u001B[49m\u001B[43mpd\u001B[49m\u001B[38;5;241;43m.\u001B[39;49m\u001B[43mNA\u001B[49m\u001B[43m,\u001B[49m\u001B[43m \u001B[49m\u001B[38;5;241;43m2\u001B[39;49m\u001B[43m]\u001B[49m\u001B[43m,\u001B[49m\u001B[43m \u001B[49m\u001B[43m[\u001B[49m\u001B[38;5;241;43m2\u001B[39;49m\u001B[43m,\u001B[49m\u001B[43m \u001B[49m\u001B[38;5;241;43m3\u001B[39;49m\u001B[43m,\u001B[49m\u001B[43m \u001B[49m\u001B[38;5;241;43m4\u001B[39;49m\u001B[43m]\u001B[49m\u001B[43m,\u001B[49m\u001B[43m \u001B[49m\u001B[43m[\u001B[49m\u001B[38;5;241;43m5\u001B[39;49m\u001B[43m,\u001B[49m\u001B[43m \u001B[49m\u001B[38;5;241;43m6\u001B[39;49m\u001B[43m,\u001B[49m\u001B[43m \u001B[49m\u001B[38;5;241;43m7\u001B[39;49m\u001B[43m]\u001B[49m\u001B[43m)\u001B[49m\n\u001B[1;32m     10\u001B[0m df\n",
      "File \u001B[0;32m/opt/anaconda3/lib/python3.9/site-packages/pandas/core/frame.py:737\u001B[0m, in \u001B[0;36mDataFrame.__init__\u001B[0;34m(self, data, index, columns, dtype, copy)\u001B[0m\n\u001B[1;32m    729\u001B[0m         mgr \u001B[38;5;241m=\u001B[39m arrays_to_mgr(\n\u001B[1;32m    730\u001B[0m             arrays,\n\u001B[1;32m    731\u001B[0m             columns,\n\u001B[0;32m   (...)\u001B[0m\n\u001B[1;32m    734\u001B[0m             typ\u001B[38;5;241m=\u001B[39mmanager,\n\u001B[1;32m    735\u001B[0m         )\n\u001B[1;32m    736\u001B[0m     \u001B[38;5;28;01melse\u001B[39;00m:\n\u001B[0;32m--> 737\u001B[0m         mgr \u001B[38;5;241m=\u001B[39m \u001B[43mndarray_to_mgr\u001B[49m\u001B[43m(\u001B[49m\n\u001B[1;32m    738\u001B[0m \u001B[43m            \u001B[49m\u001B[43mdata\u001B[49m\u001B[43m,\u001B[49m\n\u001B[1;32m    739\u001B[0m \u001B[43m            \u001B[49m\u001B[43mindex\u001B[49m\u001B[43m,\u001B[49m\n\u001B[1;32m    740\u001B[0m \u001B[43m            \u001B[49m\u001B[43mcolumns\u001B[49m\u001B[43m,\u001B[49m\n\u001B[1;32m    741\u001B[0m \u001B[43m            \u001B[49m\u001B[43mdtype\u001B[49m\u001B[38;5;241;43m=\u001B[39;49m\u001B[43mdtype\u001B[49m\u001B[43m,\u001B[49m\n\u001B[1;32m    742\u001B[0m \u001B[43m            \u001B[49m\u001B[43mcopy\u001B[49m\u001B[38;5;241;43m=\u001B[39;49m\u001B[43mcopy\u001B[49m\u001B[43m,\u001B[49m\n\u001B[1;32m    743\u001B[0m \u001B[43m            \u001B[49m\u001B[43mtyp\u001B[49m\u001B[38;5;241;43m=\u001B[39;49m\u001B[43mmanager\u001B[49m\u001B[43m,\u001B[49m\n\u001B[1;32m    744\u001B[0m \u001B[43m        \u001B[49m\u001B[43m)\u001B[49m\n\u001B[1;32m    745\u001B[0m \u001B[38;5;28;01melse\u001B[39;00m:\n\u001B[1;32m    746\u001B[0m     mgr \u001B[38;5;241m=\u001B[39m dict_to_mgr(\n\u001B[1;32m    747\u001B[0m         {},\n\u001B[1;32m    748\u001B[0m         index,\n\u001B[0;32m   (...)\u001B[0m\n\u001B[1;32m    751\u001B[0m         typ\u001B[38;5;241m=\u001B[39mmanager,\n\u001B[1;32m    752\u001B[0m     )\n",
      "File \u001B[0;32m/opt/anaconda3/lib/python3.9/site-packages/pandas/core/internals/construction.py:351\u001B[0m, in \u001B[0;36mndarray_to_mgr\u001B[0;34m(values, index, columns, dtype, copy, typ)\u001B[0m\n\u001B[1;32m    346\u001B[0m \u001B[38;5;66;03m# _prep_ndarray ensures that values.ndim == 2 at this point\u001B[39;00m\n\u001B[1;32m    347\u001B[0m index, columns \u001B[38;5;241m=\u001B[39m _get_axes(\n\u001B[1;32m    348\u001B[0m     values\u001B[38;5;241m.\u001B[39mshape[\u001B[38;5;241m0\u001B[39m], values\u001B[38;5;241m.\u001B[39mshape[\u001B[38;5;241m1\u001B[39m], index\u001B[38;5;241m=\u001B[39mindex, columns\u001B[38;5;241m=\u001B[39mcolumns\n\u001B[1;32m    349\u001B[0m )\n\u001B[0;32m--> 351\u001B[0m \u001B[43m_check_values_indices_shape_match\u001B[49m\u001B[43m(\u001B[49m\u001B[43mvalues\u001B[49m\u001B[43m,\u001B[49m\u001B[43m \u001B[49m\u001B[43mindex\u001B[49m\u001B[43m,\u001B[49m\u001B[43m \u001B[49m\u001B[43mcolumns\u001B[49m\u001B[43m)\u001B[49m\n\u001B[1;32m    353\u001B[0m \u001B[38;5;28;01mif\u001B[39;00m typ \u001B[38;5;241m==\u001B[39m \u001B[38;5;124m\"\u001B[39m\u001B[38;5;124marray\u001B[39m\u001B[38;5;124m\"\u001B[39m:\n\u001B[1;32m    355\u001B[0m     \u001B[38;5;28;01mif\u001B[39;00m \u001B[38;5;28missubclass\u001B[39m(values\u001B[38;5;241m.\u001B[39mdtype\u001B[38;5;241m.\u001B[39mtype, \u001B[38;5;28mstr\u001B[39m):\n",
      "File \u001B[0;32m/opt/anaconda3/lib/python3.9/site-packages/pandas/core/internals/construction.py:422\u001B[0m, in \u001B[0;36m_check_values_indices_shape_match\u001B[0;34m(values, index, columns)\u001B[0m\n\u001B[1;32m    420\u001B[0m passed \u001B[38;5;241m=\u001B[39m values\u001B[38;5;241m.\u001B[39mshape\n\u001B[1;32m    421\u001B[0m implied \u001B[38;5;241m=\u001B[39m (\u001B[38;5;28mlen\u001B[39m(index), \u001B[38;5;28mlen\u001B[39m(columns))\n\u001B[0;32m--> 422\u001B[0m \u001B[38;5;28;01mraise\u001B[39;00m \u001B[38;5;167;01mValueError\u001B[39;00m(\u001B[38;5;124mf\u001B[39m\u001B[38;5;124m\"\u001B[39m\u001B[38;5;124mShape of passed values is \u001B[39m\u001B[38;5;132;01m{\u001B[39;00mpassed\u001B[38;5;132;01m}\u001B[39;00m\u001B[38;5;124m, indices imply \u001B[39m\u001B[38;5;132;01m{\u001B[39;00mimplied\u001B[38;5;132;01m}\u001B[39;00m\u001B[38;5;124m\"\u001B[39m)\n",
      "\u001B[0;31mValueError\u001B[0m: Shape of passed values is (3, 1), indices imply (3, 3)"
     ]
    }
   ],
   "source": [
    "#缺失值的处理\n",
    "s = pd.Series([1, 2, np.nan, 3])\n",
    "print(s)\n",
    "\n",
    "#查看是否是缺失值\n",
    "print(s.isna())\n",
    "print(s.isnull())\n",
    "\n"
   ],
   "metadata": {
    "collapsed": false,
    "pycharm": {
     "name": "#%%\n"
    }
   }
  },
  {
   "cell_type": "code",
   "execution_count": 19,
   "outputs": [
    {
     "name": "stdout",
     "output_type": "stream",
     "text": [
      "       0      1      2\n",
      "0  False   True  False\n",
      "1  False  False  False\n",
      "2  False  False  False\n",
      "--\n",
      "       0      1      2\n",
      "0  False   True  False\n",
      "1  False  False  False\n",
      "2  False  False  False\n",
      "0    0\n",
      "1    1\n",
      "2    0\n",
      "dtype: int64\n"
     ]
    }
   ],
   "source": [
    "df = pd.DataFrame([[1, pd.NA, 2], [2, 3, 4], [5, 6, 7]])\n",
    "print(df.isna())\n",
    "print(\"--\")\n",
    "print(df.isnull())\n",
    "print(df.isna().sum())"
   ],
   "metadata": {
    "collapsed": false,
    "pycharm": {
     "name": "#%%\n"
    }
   }
  },
  {
   "cell_type": "code",
   "execution_count": 32,
   "outputs": [
    {
     "name": "stdout",
     "output_type": "stream",
     "text": [
      "0    1.0\n",
      "1    2.0\n",
      "2    NaN\n",
      "3    3.0\n",
      "dtype: float64\n",
      "------------------------------\n",
      "0    1.0\n",
      "1    2.0\n",
      "3    3.0\n",
      "dtype: float64\n",
      "------------------------------\n",
      "   0     1  2\n",
      "0  1  <NA>  2\n",
      "1  2     3  4\n",
      "2  5     6  7\n",
      "------------------------------\n",
      "   0  1  2\n",
      "1  2  3  4\n",
      "2  5  6  7\n",
      "------------------------------\n",
      "   0     1  2\n",
      "0  1  <NA>  2\n",
      "1  2     3  4\n",
      "2  5     6  7\n",
      "------------------------------\n",
      "   0     1  2\n",
      "0  1  <NA>  2\n",
      "1  2     3  4\n",
      "2  5     6  7\n"
     ]
    }
   ],
   "source": [
    "#处理缺失值\n",
    "#剔除\n",
    "s = pd.Series([1, 2, np.nan, 3])\n",
    "print(s)\n",
    "print('-'*30)\n",
    "print(s.dropna())\n",
    "print('-'*30)\n",
    "\n",
    "print(df)\n",
    "print('-'*30)\n",
    "print(df.dropna()) #剔除一整条的记录\n",
    "print('-'*30)\n",
    "print(df.dropna(how='all'))#如果所有的值，都是缺失值，才删除\n",
    "print('-'*30)\n",
    "print(df.dropna(thresh=2)) #如果至少有n个值不是缺失值，就保留"
   ],
   "metadata": {
    "collapsed": false,
    "pycharm": {
     "name": "#%%\n"
    }
   }
  },
  {
   "cell_type": "code",
   "execution_count": 39,
   "outputs": [
    {
     "name": "stdout",
     "output_type": "stream",
     "text": [
      "            date  precipitation  temp_max  temp_min  wind weather\n",
      "1456  2015-12-27            0.0      11.1       4.4   4.8     sun\n",
      "1457  2015-12-28            0.0      11.1       4.4   4.8     sun\n",
      "1458  2015-12-29            0.0      11.1       4.4   4.8     sun\n",
      "1459  2015-12-30            0.0      11.1       4.4   4.8     sun\n",
      "1460  2015-12-31           20.6      12.2       5.0   3.8    rain\n",
      "            date  precipitation  temp_max  temp_min  wind weather\n",
      "1456  2015-12-27           20.6      12.2       5.0   3.8    rain\n",
      "1457  2015-12-28           20.6      12.2       5.0   3.8    rain\n",
      "1458  2015-12-29           20.6      12.2       5.0   3.8    rain\n",
      "1459  2015-12-30           20.6      12.2       5.0   3.8    rain\n",
      "1460  2015-12-31           20.6      12.2       5.0   3.8    rain\n"
     ]
    }
   ],
   "source": [
    "#填充\n",
    "df = pd.read_csv('data/weather_withna.csv')\n",
    "df.isna().sum(axis=0)\n",
    "#print(df.fillna({'temp_max':20, 'wind':2.5})) #index值列名，后面是要填充的值\n",
    "#print(df.fillna(df[['wind']].mean().tail()))  #使用统计值来填充\n",
    "\n",
    "print(df.ffill().tail()) #front用前面的添加\n",
    "print(df.bfill().tail()) #用后面的相邻值填充"
   ],
   "metadata": {
    "collapsed": false,
    "pycharm": {
     "name": "#%%\n"
    }
   }
  },
  {
   "cell_type": "code",
   "execution_count": 44,
   "outputs": [
    {
     "data": {
      "text/plain": "    name  age city\n0  alice   26   NY\n1  alice   25   NY\n2    bob   30   LA\n3  alice   25   NY\n4   jack   35   SF\n5    bob   30   LA",
      "text/html": "<div>\n<style scoped>\n    .dataframe tbody tr th:only-of-type {\n        vertical-align: middle;\n    }\n\n    .dataframe tbody tr th {\n        vertical-align: top;\n    }\n\n    .dataframe thead th {\n        text-align: right;\n    }\n</style>\n<table border=\"1\" class=\"dataframe\">\n  <thead>\n    <tr style=\"text-align: right;\">\n      <th></th>\n      <th>name</th>\n      <th>age</th>\n      <th>city</th>\n    </tr>\n  </thead>\n  <tbody>\n    <tr>\n      <th>0</th>\n      <td>alice</td>\n      <td>26</td>\n      <td>NY</td>\n    </tr>\n    <tr>\n      <th>1</th>\n      <td>alice</td>\n      <td>25</td>\n      <td>NY</td>\n    </tr>\n    <tr>\n      <th>2</th>\n      <td>bob</td>\n      <td>30</td>\n      <td>LA</td>\n    </tr>\n    <tr>\n      <th>3</th>\n      <td>alice</td>\n      <td>25</td>\n      <td>NY</td>\n    </tr>\n    <tr>\n      <th>4</th>\n      <td>jack</td>\n      <td>35</td>\n      <td>SF</td>\n    </tr>\n    <tr>\n      <th>5</th>\n      <td>bob</td>\n      <td>30</td>\n      <td>LA</td>\n    </tr>\n  </tbody>\n</table>\n</div>"
     },
     "execution_count": 44,
     "metadata": {},
     "output_type": "execute_result"
    }
   ],
   "source": [
    "import pandas as pd\n",
    "\n",
    "data = {\n",
    "    \"name\": ['alice', 'alice', 'bob', 'alice', 'jack', 'bob'],\n",
    "    \"age\": [26, 25, 30, 25, 35, 30],\n",
    "    \"city\": ['NY', 'NY', 'LA', 'NY', 'SF', 'LA']\n",
    "}\n",
    "\n",
    "df = pd.DataFrame(data)\n",
    "df"
   ],
   "metadata": {
    "collapsed": false,
    "pycharm": {
     "name": "#%%\n"
    }
   }
  },
  {
   "cell_type": "code",
   "execution_count": 47,
   "outputs": [
    {
     "data": {
      "text/plain": "    name  age city\n0  alice   26   NY\n1  alice   25   NY\n2    bob   30   LA\n4   jack   35   SF",
      "text/html": "<div>\n<style scoped>\n    .dataframe tbody tr th:only-of-type {\n        vertical-align: middle;\n    }\n\n    .dataframe tbody tr th {\n        vertical-align: top;\n    }\n\n    .dataframe thead th {\n        text-align: right;\n    }\n</style>\n<table border=\"1\" class=\"dataframe\">\n  <thead>\n    <tr style=\"text-align: right;\">\n      <th></th>\n      <th>name</th>\n      <th>age</th>\n      <th>city</th>\n    </tr>\n  </thead>\n  <tbody>\n    <tr>\n      <th>0</th>\n      <td>alice</td>\n      <td>26</td>\n      <td>NY</td>\n    </tr>\n    <tr>\n      <th>1</th>\n      <td>alice</td>\n      <td>25</td>\n      <td>NY</td>\n    </tr>\n    <tr>\n      <th>2</th>\n      <td>bob</td>\n      <td>30</td>\n      <td>LA</td>\n    </tr>\n    <tr>\n      <th>4</th>\n      <td>jack</td>\n      <td>35</td>\n      <td>SF</td>\n    </tr>\n  </tbody>\n</table>\n</div>"
     },
     "execution_count": 47,
     "metadata": {},
     "output_type": "execute_result"
    }
   ],
   "source": [
    "df.duplicated() #检测重复(一整条记录都是一样的，标记为重复，返回true)\n",
    "df.drop_duplicates() #去除重复(整条)"
   ],
   "metadata": {
    "collapsed": false,
    "pycharm": {
     "name": "#%%\n"
    }
   }
  },
  {
   "cell_type": "code",
   "execution_count": 50,
   "outputs": [
    {
     "data": {
      "text/plain": "    name  age city\n3  alice   25   NY\n4   jack   35   SF\n5    bob   30   LA",
      "text/html": "<div>\n<style scoped>\n    .dataframe tbody tr th:only-of-type {\n        vertical-align: middle;\n    }\n\n    .dataframe tbody tr th {\n        vertical-align: top;\n    }\n\n    .dataframe thead th {\n        text-align: right;\n    }\n</style>\n<table border=\"1\" class=\"dataframe\">\n  <thead>\n    <tr style=\"text-align: right;\">\n      <th></th>\n      <th>name</th>\n      <th>age</th>\n      <th>city</th>\n    </tr>\n  </thead>\n  <tbody>\n    <tr>\n      <th>3</th>\n      <td>alice</td>\n      <td>25</td>\n      <td>NY</td>\n    </tr>\n    <tr>\n      <th>4</th>\n      <td>jack</td>\n      <td>35</td>\n      <td>SF</td>\n    </tr>\n    <tr>\n      <th>5</th>\n      <td>bob</td>\n      <td>30</td>\n      <td>LA</td>\n    </tr>\n  </tbody>\n</table>\n</div>"
     },
     "execution_count": 50,
     "metadata": {},
     "output_type": "execute_result"
    }
   ],
   "source": [
    "df.drop_duplicates(subset=['name']) #自定义按照列去重\n",
    "df.drop_duplicates(subset=['name'], keep='last')  #保留最后出现的行"
   ],
   "metadata": {
    "collapsed": false,
    "pycharm": {
     "name": "#%%\n"
    }
   }
  },
  {
   "cell_type": "code",
   "execution_count": 54,
   "outputs": [
    {
     "data": {
      "text/plain": "person_id                    int64\ngender                      object\nage                          int64\noccupation                  object\nsleep_duration             float64\nsleep_quality              float64\nphysical_activity_level      int64\nstress_level                 int64\nbmi_category                object\nblood_pressure              object\nheart_rate                   int64\ndaily_steps                  int64\nsleep_disorder              object\ndtype: object"
     },
     "execution_count": 54,
     "metadata": {},
     "output_type": "execute_result"
    }
   ],
   "source": [
    "#数据类型的转换\n",
    "df = pd.read_csv(\"data/sleep.csv\")\n",
    "df.dtypes"
   ],
   "metadata": {
    "collapsed": false,
    "pycharm": {
     "name": "#%%\n"
    }
   }
  },
  {
   "cell_type": "code",
   "execution_count": 58,
   "outputs": [
    {
     "data": {
      "text/plain": "0        Male\n1      Female\n2        Male\n3        Male\n4        Male\n        ...  \n395    Female\n396    Female\n397    Female\n398    Female\n399      Male\nName: gender, Length: 400, dtype: category\nCategories (2, object): ['Female', 'Male']"
     },
     "execution_count": 58,
     "metadata": {},
     "output_type": "execute_result"
    }
   ],
   "source": [
    "df['age'] = df['age'].astype('int16') #转换数据类型\n",
    "df['gender'] = df['gender'].astype('category')\n",
    "df.dtypes\n",
    "df.gender"
   ],
   "metadata": {
    "collapsed": false,
    "pycharm": {
     "name": "#%%\n"
    }
   }
  },
  {
   "cell_type": "code",
   "execution_count": 68,
   "outputs": [
    {
     "data": {
      "text/plain": "   ID   name       科目  分数\n0   1  alice     Math  90\n2   1  alice  English  88\n4   1  alice  Science  95\n1   2    bob     Math  85\n3   2    bob  English  92\n5   2    bob  Science  89",
      "text/html": "<div>\n<style scoped>\n    .dataframe tbody tr th:only-of-type {\n        vertical-align: middle;\n    }\n\n    .dataframe tbody tr th {\n        vertical-align: top;\n    }\n\n    .dataframe thead th {\n        text-align: right;\n    }\n</style>\n<table border=\"1\" class=\"dataframe\">\n  <thead>\n    <tr style=\"text-align: right;\">\n      <th></th>\n      <th>ID</th>\n      <th>name</th>\n      <th>科目</th>\n      <th>分数</th>\n    </tr>\n  </thead>\n  <tbody>\n    <tr>\n      <th>0</th>\n      <td>1</td>\n      <td>alice</td>\n      <td>Math</td>\n      <td>90</td>\n    </tr>\n    <tr>\n      <th>2</th>\n      <td>1</td>\n      <td>alice</td>\n      <td>English</td>\n      <td>88</td>\n    </tr>\n    <tr>\n      <th>4</th>\n      <td>1</td>\n      <td>alice</td>\n      <td>Science</td>\n      <td>95</td>\n    </tr>\n    <tr>\n      <th>1</th>\n      <td>2</td>\n      <td>bob</td>\n      <td>Math</td>\n      <td>85</td>\n    </tr>\n    <tr>\n      <th>3</th>\n      <td>2</td>\n      <td>bob</td>\n      <td>English</td>\n      <td>92</td>\n    </tr>\n    <tr>\n      <th>5</th>\n      <td>2</td>\n      <td>bob</td>\n      <td>Science</td>\n      <td>89</td>\n    </tr>\n  </tbody>\n</table>\n</div>"
     },
     "execution_count": 68,
     "metadata": {},
     "output_type": "execute_result"
    }
   ],
   "source": [
    "# 数据变形\n",
    "import pandas as pd\n",
    "\n",
    "data = {\n",
    "    'ID': [1, 2],\n",
    "    'name': ['alice', 'bob'],\n",
    "    'Math': [90, 85],\n",
    "    'English': [88, 92],\n",
    "    'Science': [95, 89]\n",
    "}\n",
    "\n",
    "df = pd.DataFrame(data)\n",
    "#宽表转换成长表\n",
    "df\n",
    "#列表中是不动的\n",
    "df2 = pd.melt(df, id_vars=['ID','name'], var_name='科目', value_name='分数')\n",
    "df2.sort_values('name')"
   ],
   "metadata": {
    "collapsed": false,
    "pycharm": {
     "name": "#%%\n"
    }
   }
  },
  {
   "cell_type": "code",
   "execution_count": 71,
   "outputs": [
    {
     "data": {
      "text/plain": "科目        English  Math  Science\nID name                         \n1  alice       88    90       95\n2  bob         92    85       89",
      "text/html": "<div>\n<style scoped>\n    .dataframe tbody tr th:only-of-type {\n        vertical-align: middle;\n    }\n\n    .dataframe tbody tr th {\n        vertical-align: top;\n    }\n\n    .dataframe thead th {\n        text-align: right;\n    }\n</style>\n<table border=\"1\" class=\"dataframe\">\n  <thead>\n    <tr style=\"text-align: right;\">\n      <th></th>\n      <th>科目</th>\n      <th>English</th>\n      <th>Math</th>\n      <th>Science</th>\n    </tr>\n    <tr>\n      <th>ID</th>\n      <th>name</th>\n      <th></th>\n      <th></th>\n      <th></th>\n    </tr>\n  </thead>\n  <tbody>\n    <tr>\n      <th>1</th>\n      <th>alice</th>\n      <td>88</td>\n      <td>90</td>\n      <td>95</td>\n    </tr>\n    <tr>\n      <th>2</th>\n      <th>bob</th>\n      <td>92</td>\n      <td>85</td>\n      <td>89</td>\n    </tr>\n  </tbody>\n</table>\n</div>"
     },
     "execution_count": 71,
     "metadata": {},
     "output_type": "execute_result"
    }
   ],
   "source": [
    "#长表转宽表\n",
    "pd.pivot(df2, index=['ID', 'name'], columns='科目', values='分数')"
   ],
   "metadata": {
    "collapsed": false,
    "pycharm": {
     "name": "#%%\n"
    }
   }
  },
  {
   "cell_type": "code",
   "execution_count": 78,
   "outputs": [],
   "source": [
    "data = {\n",
    "    'ID': [1, 2],\n",
    "    'name': ['alice smith', 'bob smith'],\n",
    "    'Math': [90, 85],\n",
    "    'English': [88, 92],\n",
    "    'Science': [95, 89]\n",
    "}\n",
    "\n",
    "df = pd.DataFrame(data)\n",
    "df\n",
    "\n",
    "#分列\n",
    "df[['first','last']] = df['name'].str.split(\" \",expand=True)  #按照空格分隔开"
   ],
   "metadata": {
    "collapsed": false,
    "pycharm": {
     "name": "#%%\n"
    }
   }
  },
  {
   "cell_type": "code",
   "execution_count": 86,
   "outputs": [
    {
     "name": "stdout",
     "output_type": "stream",
     "text": [
      "<class 'pandas.core.frame.DataFrame'>\n",
      "RangeIndex: 400 entries, 0 to 399\n",
      "Data columns (total 4 columns):\n",
      " #   Column          Non-Null Count  Dtype \n",
      "---  ------          --------------  ----- \n",
      " 0   person_id       400 non-null    int64 \n",
      " 1   blood_pressure  400 non-null    object\n",
      " 2   高压              400 non-null    int64 \n",
      " 3   低压              400 non-null    int64 \n",
      "dtypes: int64(3), object(1)\n",
      "memory usage: 12.6+ KB\n"
     ]
    }
   ],
   "source": [
    "df = pd.read_csv('data/sleep.csv')\n",
    "#处理血压值\n",
    "df = df[['person_id', 'blood_pressure']]\n",
    "df[['高压','低压']] = df['blood_pressure'].str.split(\"/\", expand=True)\n",
    "df['高压'] = df['高压'].astype('int64')\n",
    "df['低压'] = df['低压'].astype('int64')\n",
    "df.info()"
   ],
   "metadata": {
    "collapsed": false,
    "pycharm": {
     "name": "#%%\n"
    }
   }
  },
  {
   "cell_type": "code",
   "execution_count": 88,
   "outputs": [
    {
     "data": {
      "text/plain": "   employee_id first_name  last_name     email  phone_number      job_id  \\\n0          100     Steven       King     SKING  515.123.4567     AD_PRES   \n1          101      N_ann    Kochhar  NKOCHHAR  515.123.4568       AD_VP   \n2          102        Lex    De Haan   LDEHAAN  515.123.4569       AD_VP   \n3          103  Alexander     Hunold   AHUNOLD  590.423.4567     IT_PROG   \n4          104      Bruce      Ernst    BERNST  590.423.4568     IT_PROG   \n5          105      David     Austin   DAUSTIN  590.423.4569     IT_PROG   \n6          106      Valli  Pataballa  VPATABAL  590.423.4560     IT_PROG   \n7          107      Diana    Lorentz  DLORENTZ  590.423.5567     IT_PROG   \n8          108      Nancy  Greenberg  NGREENBE  515.124.4569      FI_MGR   \n9          109     Daniel     Faviet   DFAVIET  515.124.4169  FI_ACCOUNT   \n\n    salary  commission_pct  manager_id  department_id  \n0  24000.0             NaN         NaN           90.0  \n1  17000.0             NaN       100.0           90.0  \n2  17000.0             NaN       100.0           90.0  \n3   9000.0             NaN       102.0           60.0  \n4   6000.0             NaN       103.0           60.0  \n5   4800.0             NaN       103.0           60.0  \n6   4800.0             NaN       103.0           60.0  \n7   4200.0             NaN       103.0           60.0  \n8  12000.0             NaN       101.0          100.0  \n9   9000.0             NaN       108.0          100.0  ",
      "text/html": "<div>\n<style scoped>\n    .dataframe tbody tr th:only-of-type {\n        vertical-align: middle;\n    }\n\n    .dataframe tbody tr th {\n        vertical-align: top;\n    }\n\n    .dataframe thead th {\n        text-align: right;\n    }\n</style>\n<table border=\"1\" class=\"dataframe\">\n  <thead>\n    <tr style=\"text-align: right;\">\n      <th></th>\n      <th>employee_id</th>\n      <th>first_name</th>\n      <th>last_name</th>\n      <th>email</th>\n      <th>phone_number</th>\n      <th>job_id</th>\n      <th>salary</th>\n      <th>commission_pct</th>\n      <th>manager_id</th>\n      <th>department_id</th>\n    </tr>\n  </thead>\n  <tbody>\n    <tr>\n      <th>0</th>\n      <td>100</td>\n      <td>Steven</td>\n      <td>King</td>\n      <td>SKING</td>\n      <td>515.123.4567</td>\n      <td>AD_PRES</td>\n      <td>24000.0</td>\n      <td>NaN</td>\n      <td>NaN</td>\n      <td>90.0</td>\n    </tr>\n    <tr>\n      <th>1</th>\n      <td>101</td>\n      <td>N_ann</td>\n      <td>Kochhar</td>\n      <td>NKOCHHAR</td>\n      <td>515.123.4568</td>\n      <td>AD_VP</td>\n      <td>17000.0</td>\n      <td>NaN</td>\n      <td>100.0</td>\n      <td>90.0</td>\n    </tr>\n    <tr>\n      <th>2</th>\n      <td>102</td>\n      <td>Lex</td>\n      <td>De Haan</td>\n      <td>LDEHAAN</td>\n      <td>515.123.4569</td>\n      <td>AD_VP</td>\n      <td>17000.0</td>\n      <td>NaN</td>\n      <td>100.0</td>\n      <td>90.0</td>\n    </tr>\n    <tr>\n      <th>3</th>\n      <td>103</td>\n      <td>Alexander</td>\n      <td>Hunold</td>\n      <td>AHUNOLD</td>\n      <td>590.423.4567</td>\n      <td>IT_PROG</td>\n      <td>9000.0</td>\n      <td>NaN</td>\n      <td>102.0</td>\n      <td>60.0</td>\n    </tr>\n    <tr>\n      <th>4</th>\n      <td>104</td>\n      <td>Bruce</td>\n      <td>Ernst</td>\n      <td>BERNST</td>\n      <td>590.423.4568</td>\n      <td>IT_PROG</td>\n      <td>6000.0</td>\n      <td>NaN</td>\n      <td>103.0</td>\n      <td>60.0</td>\n    </tr>\n    <tr>\n      <th>5</th>\n      <td>105</td>\n      <td>David</td>\n      <td>Austin</td>\n      <td>DAUSTIN</td>\n      <td>590.423.4569</td>\n      <td>IT_PROG</td>\n      <td>4800.0</td>\n      <td>NaN</td>\n      <td>103.0</td>\n      <td>60.0</td>\n    </tr>\n    <tr>\n      <th>6</th>\n      <td>106</td>\n      <td>Valli</td>\n      <td>Pataballa</td>\n      <td>VPATABAL</td>\n      <td>590.423.4560</td>\n      <td>IT_PROG</td>\n      <td>4800.0</td>\n      <td>NaN</td>\n      <td>103.0</td>\n      <td>60.0</td>\n    </tr>\n    <tr>\n      <th>7</th>\n      <td>107</td>\n      <td>Diana</td>\n      <td>Lorentz</td>\n      <td>DLORENTZ</td>\n      <td>590.423.5567</td>\n      <td>IT_PROG</td>\n      <td>4200.0</td>\n      <td>NaN</td>\n      <td>103.0</td>\n      <td>60.0</td>\n    </tr>\n    <tr>\n      <th>8</th>\n      <td>108</td>\n      <td>Nancy</td>\n      <td>Greenberg</td>\n      <td>NGREENBE</td>\n      <td>515.124.4569</td>\n      <td>FI_MGR</td>\n      <td>12000.0</td>\n      <td>NaN</td>\n      <td>101.0</td>\n      <td>100.0</td>\n    </tr>\n    <tr>\n      <th>9</th>\n      <td>109</td>\n      <td>Daniel</td>\n      <td>Faviet</td>\n      <td>DFAVIET</td>\n      <td>515.124.4169</td>\n      <td>FI_ACCOUNT</td>\n      <td>9000.0</td>\n      <td>NaN</td>\n      <td>108.0</td>\n      <td>100.0</td>\n    </tr>\n  </tbody>\n</table>\n</div>"
     },
     "execution_count": 88,
     "metadata": {},
     "output_type": "execute_result"
    }
   ],
   "source": [
    "#数据分箱 pd.cut(x, bins, labels)\n",
    "import pandas as pd\n",
    "df = pd.read_csv('data/employees.csv')\n",
    "df.head(10)"
   ],
   "metadata": {
    "collapsed": false,
    "pycharm": {
     "name": "#%%\n"
    }
   }
  },
  {
   "cell_type": "code",
   "execution_count": 90,
   "outputs": [
    {
     "data": {
      "text/plain": "   employee_id   salary\n0          100  24000.0\n1          101  17000.0\n2          102  17000.0\n3          103   9000.0\n4          104   6000.0\n5          105   4800.0\n6          106   4800.0\n7          107   4200.0\n8          108  12000.0\n9          109   9000.0",
      "text/html": "<div>\n<style scoped>\n    .dataframe tbody tr th:only-of-type {\n        vertical-align: middle;\n    }\n\n    .dataframe tbody tr th {\n        vertical-align: top;\n    }\n\n    .dataframe thead th {\n        text-align: right;\n    }\n</style>\n<table border=\"1\" class=\"dataframe\">\n  <thead>\n    <tr style=\"text-align: right;\">\n      <th></th>\n      <th>employee_id</th>\n      <th>salary</th>\n    </tr>\n  </thead>\n  <tbody>\n    <tr>\n      <th>0</th>\n      <td>100</td>\n      <td>24000.0</td>\n    </tr>\n    <tr>\n      <th>1</th>\n      <td>101</td>\n      <td>17000.0</td>\n    </tr>\n    <tr>\n      <th>2</th>\n      <td>102</td>\n      <td>17000.0</td>\n    </tr>\n    <tr>\n      <th>3</th>\n      <td>103</td>\n      <td>9000.0</td>\n    </tr>\n    <tr>\n      <th>4</th>\n      <td>104</td>\n      <td>6000.0</td>\n    </tr>\n    <tr>\n      <th>5</th>\n      <td>105</td>\n      <td>4800.0</td>\n    </tr>\n    <tr>\n      <th>6</th>\n      <td>106</td>\n      <td>4800.0</td>\n    </tr>\n    <tr>\n      <th>7</th>\n      <td>107</td>\n      <td>4200.0</td>\n    </tr>\n    <tr>\n      <th>8</th>\n      <td>108</td>\n      <td>12000.0</td>\n    </tr>\n    <tr>\n      <th>9</th>\n      <td>109</td>\n      <td>9000.0</td>\n    </tr>\n  </tbody>\n</table>\n</div>"
     },
     "execution_count": 90,
     "metadata": {},
     "output_type": "execute_result"
    }
   ],
   "source": [
    "df1 = df.head(10)[['employee_id', 'salary']]\n",
    "df1"
   ],
   "metadata": {
    "collapsed": false,
    "pycharm": {
     "name": "#%%\n"
    }
   }
  },
  {
   "cell_type": "code",
   "execution_count": 94,
   "outputs": [
    {
     "data": {
      "text/plain": "(4180.2, 10800.0]     6\n(10800.0, 17400.0]    3\n(17400.0, 24000.0]    1\nName: salary, dtype: int64"
     },
     "execution_count": 94,
     "metadata": {},
     "output_type": "execute_result"
    }
   ],
   "source": [
    "pd.cut(df1['salary'], bins=2)  #分2段\n",
    "#4180~14100~24000\n",
    "pd.cut(df1['salary'], bins=3).value_counts()"
   ],
   "metadata": {
    "collapsed": false,
    "pycharm": {
     "name": "#%%\n"
    }
   }
  },
  {
   "cell_type": "code",
   "execution_count": 102,
   "outputs": [
    {
     "data": {
      "text/plain": "(4199.999, 6000.0]    4\n(6000.0, 12000.0]     3\n(12000.0, 24000.0]    3\nName: salary, dtype: int64"
     },
     "execution_count": 102,
     "metadata": {},
     "output_type": "execute_result"
    }
   ],
   "source": [
    "#自定义分箱区间\n",
    "df1['收入范围'] = pd.cut(df1['salary'], bins=[0,10000,20000,30000], labels=['低','中','高'])\n",
    "\n",
    "pd.qcut(df1['salary'], 3).value_counts()"
   ],
   "metadata": {
    "collapsed": false,
    "pycharm": {
     "name": "#%%\n"
    }
   }
  },
  {
   "cell_type": "code",
   "execution_count": 114,
   "outputs": [
    {
     "data": {
      "text/plain": "中    5\n低    3\n高    2\nName: 睡眠质量, dtype: int64"
     },
     "execution_count": 114,
     "metadata": {},
     "output_type": "execute_result"
    }
   ],
   "source": [
    "#睡眠数据\n",
    "df = pd.read_csv('data/sleep.csv')\n",
    "df = df.head(10)\n",
    "df['睡眠质量'] = pd.cut(df['sleep_quality'], bins=3, labels=['低', '中', '高'])\n",
    "df['睡眠质量'].value_counts()"
   ],
   "metadata": {
    "collapsed": false,
    "pycharm": {
     "name": "#%%\n"
    }
   }
  },
  {
   "cell_type": "code",
   "execution_count": 117,
   "outputs": [
    {
     "data": {
      "text/plain": "   person_id  gender  年龄     occupation  sleep_duration  sleep_quality  \\\n0          1    Male  29   Manual Labor             7.4            7.0   \n1          2  Female  43        Retired             4.2            4.9   \n2          3    Male  44        Retired             6.1            6.0   \n3          4    Male  29  Office Worker             8.3           10.0   \n4          5    Male  67        Retired             9.1            9.5   \n5          6  Female  47        Student             6.1            6.9   \n6          7    Male  22  Office Worker             5.1            6.1   \n7          8    Male  49  Office Worker            10.7            6.2   \n8          9    Male  25   Manual Labor            11.9            7.2   \n9         10  Female  51        Retired             8.2            4.0   \n\n   physical_activity_level  stress_level bmi_category blood_pressure  \\\n0                       41             7        Obese         124/70   \n1                       41             5        Obese         131/86   \n2                      107             4  Underweight         122/70   \n3                       20            10        Obese         124/72   \n4                       19             4   Overweight         133/78   \n5                       24             4       Normal         123/60   \n6                       26             6        Obese         121/70   \n7                       49             8        Obese         134/87   \n8                       27             8  Underweight         112/63   \n9                       64             5   Overweight         125/84   \n\n   heart_rate  daily_steps sleep_disorder 睡眠质量  \n0          91         8539           None    中  \n1          81        18754           None    低  \n2          81         2857           None    低  \n3          55         6886           None    高  \n4          97        14945       Insomnia    高  \n5          87         9485           None    中  \n6          66        15680           None    中  \n7          59        18767           None    中  \n8          99        16397    Sleep Apnea    中  \n9          76        12744           None    低  ",
      "text/html": "<div>\n<style scoped>\n    .dataframe tbody tr th:only-of-type {\n        vertical-align: middle;\n    }\n\n    .dataframe tbody tr th {\n        vertical-align: top;\n    }\n\n    .dataframe thead th {\n        text-align: right;\n    }\n</style>\n<table border=\"1\" class=\"dataframe\">\n  <thead>\n    <tr style=\"text-align: right;\">\n      <th></th>\n      <th>person_id</th>\n      <th>gender</th>\n      <th>年龄</th>\n      <th>occupation</th>\n      <th>sleep_duration</th>\n      <th>sleep_quality</th>\n      <th>physical_activity_level</th>\n      <th>stress_level</th>\n      <th>bmi_category</th>\n      <th>blood_pressure</th>\n      <th>heart_rate</th>\n      <th>daily_steps</th>\n      <th>sleep_disorder</th>\n      <th>睡眠质量</th>\n    </tr>\n  </thead>\n  <tbody>\n    <tr>\n      <th>0</th>\n      <td>1</td>\n      <td>Male</td>\n      <td>29</td>\n      <td>Manual Labor</td>\n      <td>7.4</td>\n      <td>7.0</td>\n      <td>41</td>\n      <td>7</td>\n      <td>Obese</td>\n      <td>124/70</td>\n      <td>91</td>\n      <td>8539</td>\n      <td>None</td>\n      <td>中</td>\n    </tr>\n    <tr>\n      <th>1</th>\n      <td>2</td>\n      <td>Female</td>\n      <td>43</td>\n      <td>Retired</td>\n      <td>4.2</td>\n      <td>4.9</td>\n      <td>41</td>\n      <td>5</td>\n      <td>Obese</td>\n      <td>131/86</td>\n      <td>81</td>\n      <td>18754</td>\n      <td>None</td>\n      <td>低</td>\n    </tr>\n    <tr>\n      <th>2</th>\n      <td>3</td>\n      <td>Male</td>\n      <td>44</td>\n      <td>Retired</td>\n      <td>6.1</td>\n      <td>6.0</td>\n      <td>107</td>\n      <td>4</td>\n      <td>Underweight</td>\n      <td>122/70</td>\n      <td>81</td>\n      <td>2857</td>\n      <td>None</td>\n      <td>低</td>\n    </tr>\n    <tr>\n      <th>3</th>\n      <td>4</td>\n      <td>Male</td>\n      <td>29</td>\n      <td>Office Worker</td>\n      <td>8.3</td>\n      <td>10.0</td>\n      <td>20</td>\n      <td>10</td>\n      <td>Obese</td>\n      <td>124/72</td>\n      <td>55</td>\n      <td>6886</td>\n      <td>None</td>\n      <td>高</td>\n    </tr>\n    <tr>\n      <th>4</th>\n      <td>5</td>\n      <td>Male</td>\n      <td>67</td>\n      <td>Retired</td>\n      <td>9.1</td>\n      <td>9.5</td>\n      <td>19</td>\n      <td>4</td>\n      <td>Overweight</td>\n      <td>133/78</td>\n      <td>97</td>\n      <td>14945</td>\n      <td>Insomnia</td>\n      <td>高</td>\n    </tr>\n    <tr>\n      <th>5</th>\n      <td>6</td>\n      <td>Female</td>\n      <td>47</td>\n      <td>Student</td>\n      <td>6.1</td>\n      <td>6.9</td>\n      <td>24</td>\n      <td>4</td>\n      <td>Normal</td>\n      <td>123/60</td>\n      <td>87</td>\n      <td>9485</td>\n      <td>None</td>\n      <td>中</td>\n    </tr>\n    <tr>\n      <th>6</th>\n      <td>7</td>\n      <td>Male</td>\n      <td>22</td>\n      <td>Office Worker</td>\n      <td>5.1</td>\n      <td>6.1</td>\n      <td>26</td>\n      <td>6</td>\n      <td>Obese</td>\n      <td>121/70</td>\n      <td>66</td>\n      <td>15680</td>\n      <td>None</td>\n      <td>中</td>\n    </tr>\n    <tr>\n      <th>7</th>\n      <td>8</td>\n      <td>Male</td>\n      <td>49</td>\n      <td>Office Worker</td>\n      <td>10.7</td>\n      <td>6.2</td>\n      <td>49</td>\n      <td>8</td>\n      <td>Obese</td>\n      <td>134/87</td>\n      <td>59</td>\n      <td>18767</td>\n      <td>None</td>\n      <td>中</td>\n    </tr>\n    <tr>\n      <th>8</th>\n      <td>9</td>\n      <td>Male</td>\n      <td>25</td>\n      <td>Manual Labor</td>\n      <td>11.9</td>\n      <td>7.2</td>\n      <td>27</td>\n      <td>8</td>\n      <td>Underweight</td>\n      <td>112/63</td>\n      <td>99</td>\n      <td>16397</td>\n      <td>Sleep Apnea</td>\n      <td>中</td>\n    </tr>\n    <tr>\n      <th>9</th>\n      <td>10</td>\n      <td>Female</td>\n      <td>51</td>\n      <td>Retired</td>\n      <td>8.2</td>\n      <td>4.0</td>\n      <td>64</td>\n      <td>5</td>\n      <td>Overweight</td>\n      <td>125/84</td>\n      <td>76</td>\n      <td>12744</td>\n      <td>None</td>\n      <td>低</td>\n    </tr>\n  </tbody>\n</table>\n</div>"
     },
     "execution_count": 117,
     "metadata": {},
     "output_type": "execute_result"
    }
   ],
   "source": [
    "#修改列名\n",
    "df.rename(columns={'age':'年龄'}, inplace=True)\n",
    "df"
   ],
   "metadata": {
    "collapsed": false,
    "pycharm": {
     "name": "#%%\n"
    }
   }
  },
  {
   "cell_type": "code",
   "execution_count": 120,
   "outputs": [
    {
     "name": "stdout",
     "output_type": "stream",
     "text": [
      "年 2015\n"
     ]
    }
   ],
   "source": [
    "#时间数据的处理\n",
    "import pandas as pd\n",
    "d = pd.Timestamp('2015-05-02 10:22') #时间戳\n",
    "print(\"年\", d.year)"
   ],
   "metadata": {
    "collapsed": false,
    "pycharm": {
     "name": "#%%\n"
    }
   }
  },
  {
   "cell_type": "code",
   "execution_count": 122,
   "outputs": [
    {
     "name": "stdout",
     "output_type": "stream",
     "text": [
      "2020-01-01 10:11:00\n",
      "<class 'pandas._libs.tslibs.timestamps.Timestamp'>\n"
     ]
    }
   ],
   "source": [
    "#字符串转换为日期类型\n",
    "a = pd.to_datetime(\"2020-01-01 10:11\")\n",
    "print(a)\n",
    "print(type(a))"
   ],
   "metadata": {
    "collapsed": false,
    "pycharm": {
     "name": "#%%\n"
    }
   }
  },
  {
   "cell_type": "code",
   "execution_count": 124,
   "outputs": [
    {
     "data": {
      "text/plain": "   sales      date   datetime\n0    100  20250601 2025-06-01\n1    200  20250602 2025-06-02\n2    300  20250603 2025-06-03",
      "text/html": "<div>\n<style scoped>\n    .dataframe tbody tr th:only-of-type {\n        vertical-align: middle;\n    }\n\n    .dataframe tbody tr th {\n        vertical-align: top;\n    }\n\n    .dataframe thead th {\n        text-align: right;\n    }\n</style>\n<table border=\"1\" class=\"dataframe\">\n  <thead>\n    <tr style=\"text-align: right;\">\n      <th></th>\n      <th>sales</th>\n      <th>date</th>\n      <th>datetime</th>\n    </tr>\n  </thead>\n  <tbody>\n    <tr>\n      <th>0</th>\n      <td>100</td>\n      <td>20250601</td>\n      <td>2025-06-01</td>\n    </tr>\n    <tr>\n      <th>1</th>\n      <td>200</td>\n      <td>20250602</td>\n      <td>2025-06-02</td>\n    </tr>\n    <tr>\n      <th>2</th>\n      <td>300</td>\n      <td>20250603</td>\n      <td>2025-06-03</td>\n    </tr>\n  </tbody>\n</table>\n</div>"
     },
     "execution_count": 124,
     "metadata": {},
     "output_type": "execute_result"
    }
   ],
   "source": [
    "import pandas as pd\n",
    "\n",
    "df = pd.DataFrame({\n",
    "    'sales': [100, 200, 300],\n",
    "    'date': ['20250601', '20250602', '20250603']\n",
    "})\n",
    "\n",
    "#将字符串转成时间戳，并且加入到原来的df中\n",
    "df['datetime'] = pd.to_datetime(df['date'])\n",
    "\n",
    "df"
   ],
   "metadata": {
    "collapsed": false,
    "pycharm": {
     "name": "#%%\n"
    }
   }
  }
 ],
 "metadata": {
  "kernelspec": {
   "display_name": "Python 3",
   "language": "python",
   "name": "python3"
  },
  "language_info": {
   "codemirror_mode": {
    "name": "ipython",
    "version": 2
   },
   "file_extension": ".py",
   "mimetype": "text/x-python",
   "name": "python",
   "nbconvert_exporter": "python",
   "pygments_lexer": "ipython2",
   "version": "2.7.6"
  }
 },
 "nbformat": 4,
 "nbformat_minor": 0
}
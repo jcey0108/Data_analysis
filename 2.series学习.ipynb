{
 "cells": [
  {
   "cell_type": "code",
   "execution_count": 6,
   "outputs": [
    {
     "name": "stdout",
     "output_type": "stream",
     "text": [
      "0    1\n",
      "1    2\n",
      "2    3\n",
      "3    4\n",
      "4    5\n",
      "dtype: int64\n",
      "A    10\n",
      "B    11\n",
      "C    12\n",
      "D    13\n",
      "dtype: int64\n",
      "A    10\n",
      "B    11\n",
      "C    12\n",
      "D    13\n",
      "Name: 标签, dtype: int64\n"
     ]
    }
   ],
   "source": [
    "#series的创建\n",
    "import numpy as np\n",
    "import pandas as pd\n",
    "s = pd.Series([1, 2, 3, 4, 5])\n",
    "print(s)\n",
    "#自定义索引\n",
    "s = pd.Series([10, 11, 12,13], index=['A','B','C', 'D'])\n",
    "print(s)\n",
    "#定义name\n",
    "s = pd.Series([10, 11, 12,13], index=['A','B','C', 'D'], name = '标签')\n",
    "print(s)"
   ],
   "metadata": {
    "collapsed": false,
    "pycharm": {
     "name": "#%%\n"
    }
   }
  },
  {
   "cell_type": "code",
   "execution_count": 9,
   "outputs": [
    {
     "name": "stdout",
     "output_type": "stream",
     "text": [
      "a    1\n",
      "b    2\n",
      "c    3\n",
      "dtype: int64\n",
      "a    1\n",
      "c    3\n",
      "dtype: int64\n"
     ]
    }
   ],
   "source": [
    "#通过字典来创建\n",
    "s = pd.Series({\"a\":1, \"b\":2, \"c\":3})\n",
    "print(s)\n",
    "#根据已有创建新的\n",
    "s1 = pd.Series(s, index=[\"a\", \"c\"])\n",
    "print(s1)"
   ],
   "metadata": {
    "collapsed": false,
    "pycharm": {
     "name": "#%%\n"
    }
   }
  },
  {
   "cell_type": "code",
   "execution_count": 23,
   "outputs": [
    {
     "name": "stdout",
     "output_type": "stream",
     "text": [
      "Index(['A', 'B', 'C', 'D'], dtype='object')\n",
      "[10 11 12 13]\n",
      "(4,)\n",
      "1\n",
      "4\n",
      "test\n",
      "10\n",
      "10\n",
      "10\n"
     ]
    }
   ],
   "source": [
    "#series的属性\n",
    "s = pd.Series([10, 11, 12,13], index=['A','B','C', 'D'])\n",
    "s.name = \"test\"\n",
    "#print(s)\n",
    "#获取索引\n",
    "print(s.index)\n",
    "#获取值\n",
    "print(s.values)\n",
    "#获取形状\n",
    "print(s.shape)\n",
    "print(s.ndim)\n",
    "print(s.size)\n",
    "print(s.name)\n",
    "\n",
    "#获取\n",
    "print(s.loc['A']) #获取标签获取值,可以切片\n",
    "print(s.iloc[0])  #隐式索引\n",
    "print(s.at['A'])  #不支持切片"
   ],
   "metadata": {
    "collapsed": false,
    "pycharm": {
     "name": "#%%\n"
    }
   }
  },
  {
   "cell_type": "code",
   "execution_count": 34,
   "outputs": [
    {
     "name": "stdout",
     "output_type": "stream",
     "text": [
      "A    10\n",
      "B    11\n",
      "C    12\n",
      "D    13\n",
      "Name: test, dtype: int64\n",
      "A    10\n",
      "B    11\n",
      "C    12\n",
      "D    13\n",
      "Name: test, dtype: int64\n"
     ]
    }
   ],
   "source": [
    "#访问数据\n",
    "# print(s[0])\n",
    "# print(s['A'])\n",
    "# print(s[s<12])\n",
    "print(s.head())  #只打印前5行\n",
    "print(s.tail())  #查看后5行"
   ],
   "metadata": {
    "collapsed": false,
    "pycharm": {
     "name": "#%%\n"
    }
   }
  },
  {
   "cell_type": "code",
   "execution_count": 40,
   "outputs": [
    {
     "name": "stdout",
     "output_type": "stream",
     "text": [
      "A    1.0\n",
      "B    2.0\n",
      "C    3.0\n",
      "D    NaN\n",
      "E    4.0\n",
      "F    5.0\n",
      "dtype: float64\n"
     ]
    }
   ],
   "source": [
    "#常见函数\n",
    "import numpy as np\n",
    "s = pd.Series([1, 2, 3, np.nan, 4, 5, 5], index=['A', 'B', 'C', 'D', 'E', 'F','G'])\n",
    "print(s)"
   ],
   "metadata": {
    "collapsed": false,
    "pycharm": {
     "name": "#%%\n"
    }
   }
  },
  {
   "cell_type": "code",
   "execution_count": 43,
   "outputs": [
    {
     "data": {
      "text/plain": "B    2.0\nC    3.0\nD    NaN\nE    4.0\nF    5.0\ndtype: float64"
     },
     "execution_count": 43,
     "metadata": {},
     "output_type": "execute_result"
    }
   ],
   "source": [
    "s.head()  #默认取前五行数据\n",
    "s.tail()  #默认取后五行数据"
   ],
   "metadata": {
    "collapsed": false,
    "pycharm": {
     "name": "#%%\n"
    }
   }
  },
  {
   "cell_type": "code",
   "execution_count": 45,
   "outputs": [
    {
     "data": {
      "text/plain": "count    5.000000\nmean     3.000000\nstd      1.581139\nmin      1.000000\n25%      2.000000\n50%      3.000000\n75%      4.000000\nmax      5.000000\ndtype: float64"
     },
     "execution_count": 45,
     "metadata": {},
     "output_type": "execute_result"
    }
   ],
   "source": [
    "s.describe()"
   ],
   "metadata": {
    "collapsed": false,
    "pycharm": {
     "name": "#%%\n"
    }
   }
  },
  {
   "cell_type": "code",
   "execution_count": 49,
   "outputs": [
    {
     "name": "stdout",
     "output_type": "stream",
     "text": [
      "5\n",
      "Index(['A', 'B', 'C', 'D', 'E', 'F'], dtype='object')\n",
      "Index(['A', 'B', 'C', 'D', 'E', 'F'], dtype='object')\n"
     ]
    }
   ],
   "source": [
    "#获取元素个数(忽略缺失值)\n",
    "print(s.count())\n",
    "#获取索引\n",
    "print(s.keys())\n",
    "print(s.index)"
   ],
   "metadata": {
    "collapsed": false,
    "pycharm": {
     "name": "#%%\n"
    }
   }
  },
  {
   "cell_type": "code",
   "execution_count": 51,
   "outputs": [
    {
     "name": "stdout",
     "output_type": "stream",
     "text": [
      "A    False\n",
      "B    False\n",
      "C    False\n",
      "D     True\n",
      "E    False\n",
      "F    False\n",
      "dtype: bool\n"
     ]
    }
   ],
   "source": [
    "#判断是否为缺失值\n",
    "print(s.isna()) #检查Series里的每一个元素是否 是缺失值"
   ],
   "metadata": {
    "collapsed": false,
    "pycharm": {
     "name": "#%%\n"
    }
   }
  },
  {
   "cell_type": "code",
   "execution_count": 54,
   "outputs": [
    {
     "data": {
      "text/plain": "A    False\nB    False\nC    False\nD    False\nE     True\nF     True\ndtype: bool"
     },
     "execution_count": 54,
     "metadata": {},
     "output_type": "execute_result"
    }
   ],
   "source": [
    "s.isin([4, 5])  #检查每个元素是否在参数集合中"
   ],
   "metadata": {
    "collapsed": false,
    "pycharm": {
     "name": "#%%\n"
    }
   }
  },
  {
   "cell_type": "code",
   "execution_count": 61,
   "outputs": [
    {
     "name": "stdout",
     "output_type": "stream",
     "text": [
      "3.0\n",
      "1.5811388300841898\n",
      "2.5\n",
      "3.0\n",
      "2.0\n",
      "---\n",
      "0    1.0\n",
      "1    2.0\n",
      "2    3.0\n",
      "3    4.0\n",
      "4    5.0\n",
      "dtype: float64\n"
     ]
    }
   ],
   "source": [
    "print(s.mean()) #平均数\n",
    "print(s.std())  #标准差\n",
    "print(s.var())  #方差\n",
    "print(s.median()) #中位数\n",
    "print(s.quantile(0.25))\n",
    "print(\"---\")\n",
    "print(s.mode()) #众数"
   ],
   "metadata": {
    "collapsed": false,
    "pycharm": {
     "name": "#%%\n"
    }
   }
  },
  {
   "cell_type": "code",
   "execution_count": 65,
   "outputs": [
    {
     "name": "stdout",
     "output_type": "stream",
     "text": [
      "A    1.0\n",
      "B    2.0\n",
      "C    3.0\n",
      "D    NaN\n",
      "E    4.0\n",
      "F    5.0\n",
      "dtype: float64\n",
      "5\n"
     ]
    }
   ],
   "source": [
    "#去重\n",
    "print(s.drop_duplicates())\n",
    "print(s.nunique()) #去重后的元素个数"
   ],
   "metadata": {
    "collapsed": false,
    "pycharm": {
     "name": "#%%\n"
    }
   }
  },
  {
   "cell_type": "code",
   "execution_count": 68,
   "outputs": [
    {
     "data": {
      "text/plain": "A    1.0\nB    2.0\nC    3.0\nE    4.0\nF    5.0\nD    NaN\ndtype: float64"
     },
     "execution_count": 68,
     "metadata": {},
     "output_type": "execute_result"
    }
   ],
   "source": [
    "#排序\n",
    "s.sort_index() #按索引排序\n",
    "s.sort_values() #按值排序"
   ],
   "metadata": {
    "collapsed": false,
    "pycharm": {
     "name": "#%%\n"
    }
   }
  },
  {
   "cell_type": "code",
   "execution_count": 76,
   "outputs": [
    {
     "name": "stdout",
     "output_type": "stream",
     "text": [
      "学生1     88\n",
      "学生2     78\n",
      "学生3     64\n",
      "学生4     92\n",
      "学生5     57\n",
      "学生6     70\n",
      "学生7     88\n",
      "学生8     68\n",
      "学生9     72\n",
      "学生10    60\n",
      "dtype: int64\n",
      "---\n",
      "平均分为： 73.7\n",
      "最高分为： 92\n",
      "最低分为： 57\n",
      "高于平均分的学生人数为： 4\n"
     ]
    }
   ],
   "source": [
    "#练习1：\n",
    "#创建一个包含10名学生数学成绩的Series，成绩范围在50-100之间:\n",
    "# 计算平均分、最高分、最低分，并找出高于平均分的学生人数。\n",
    "np.random.seed(42)\n",
    "scores = pd.Series(np.random.randint(50, 101, 10),\n",
    "                   index=['学生' + str(i) for i in range(1,11)])\n",
    "print(scores)\n",
    "print(\"---\")\n",
    "print('平均分为：', scores.mean())\n",
    "print('最高分为：', scores.max())\n",
    "print('最低分为：', scores.min())\n",
    "avg = scores.mean()\n",
    "print('高于平均分的学生人数为：', len(scores[scores>avg]))"
   ],
   "metadata": {
    "collapsed": false,
    "pycharm": {
     "name": "#%%\n"
    }
   }
  },
  {
   "cell_type": "code",
   "execution_count": 98,
   "outputs": [
    {
     "name": "stdout",
     "output_type": "stream",
     "text": [
      "温度超过30度的天数为： 3\n",
      "平均气温为： 30.0\n",
      "周日    33\n",
      "周四    32\n",
      "周二    31\n",
      "周五    30\n",
      "周三    29\n",
      "周一    28\n",
      "周六    27\n",
      "dtype: int64\n",
      "温度变化最大的两天为： 周一 周二\n"
     ]
    }
   ],
   "source": [
    "#练习2：\n",
    "#给定某城市一周每天的最高温度Series，完成以下任务:\n",
    "# 找出温度超过30度的天数;计算平均温度;将温度从高到低排序;找出温度变化最大的两天\n",
    "\n",
    "temperatures =pd.Series([28, 31,29, 32,30,27,33],\n",
    "                        index=['周一','周二', '周三', '周四', '周五', '周六', '周日'])\n",
    "print('温度超过30度的天数为：', len(temperatures[temperatures>30]))\n",
    "print('平均气温为：', temperatures.mean())\n",
    "sorted_temps = temperatures.sort_values(ascending=False)  #不改变原来的,降序\n",
    "print(sorted_temps)\n",
    "\n",
    "#找出温度变化最大的两天\n",
    "t3 = temperatures.diff().abs() #后一个元素与前一个元素的差值\n",
    "print('温度变化最大的两天为：', *(temperatures.diff().abs().index[:2].tolist()))\n",
    "#用*可以去掉列表前后的中括号"
   ],
   "metadata": {
    "collapsed": false,
    "pycharm": {
     "name": "#%%\n"
    }
   }
  },
  {
   "cell_type": "code",
   "execution_count": 113,
   "outputs": [
    {
     "name": "stdout",
     "output_type": "stream",
     "text": [
      "收益率最高的日期 2023-01-03 00:00:00\n",
      "收益率最低的日期 2023-01-07 00:00:00\n",
      "波动率是： 0.007373623845361105\n"
     ]
    }
   ],
   "source": [
    "#练习3：\n",
    "#给定某股票连续10个交易日的收盘价Series：\n",
    "#计算每日收益率（当日收盘价/前日收盘价 - 1）\n",
    "#找出收益率最高和最低的日期\n",
    "#计算波动率（收益率的标准差）\n",
    "\n",
    "#日期序列\n",
    "# date = pd.date_range('2025-06-1', periods=6)\n",
    "# print(list(date))\n",
    "\n",
    "prices = pd.Series([102.3, 103.5, 105.1, 104.8, 106.2, 107.0, 106.5, 108.1, 109.3, 110.2], index=pd.date_range('2023-01-01', periods=10))\n",
    "\n",
    "a = prices.pct_change()\n",
    "#收益率最高的日期\n",
    "print('收益率最高的日期', a.idxmax()) #idxmax：取到最大值对应的索引\n",
    "print('收益率最低的日期', a.idxmin())\n",
    "\n",
    "#计算波动率\n",
    "print('波动率是：', a.std())"
   ],
   "metadata": {
    "collapsed": false,
    "pycharm": {
     "name": "#%%\n"
    }
   }
  },
  {
   "cell_type": "code",
   "execution_count": 120,
   "outputs": [
    {
     "name": "stdout",
     "output_type": "stream",
     "text": [
      "2022-01-31    120\n",
      "2022-02-28    135\n",
      "2022-03-31    145\n",
      "2022-04-30    160\n",
      "2022-05-31    155\n",
      "2022-06-30    170\n",
      "2022-07-31    180\n",
      "2022-08-31    175\n",
      "2022-09-30    190\n",
      "2022-10-31    200\n",
      "2022-11-30    210\n",
      "2022-12-31    220\n",
      "Freq: M, dtype: int64\n"
     ]
    }
   ],
   "source": [
    "#练习4：\n",
    "#某产品过去12个月的销售量Series：\n",
    "# 计算季度平均销量（每3个月为一个季度）\n",
    "# 找出销量最高的月份\n",
    "# 计算月环比增长率\n",
    "# 找出连续增长超过2个月的月份\n",
    "\n",
    "sales = pd.Series([120, 135, 145, 160, 155, 170, 180, 175, 190, 200, 210, 220],index=pd.date_range('2022-01-01', periods=12, freq='M'))\n",
    "\n",
    "print(sales)"
   ],
   "metadata": {
    "collapsed": false,
    "pycharm": {
     "name": "#%%\n"
    }
   }
  },
  {
   "cell_type": "code",
   "execution_count": 125,
   "outputs": [
    {
     "name": "stdout",
     "output_type": "stream",
     "text": [
      "销量最高的月份： 2022-12-31 00:00:00\n",
      "月环比的增长率： 2022-01-31         NaN\n",
      "2022-02-28    0.125000\n",
      "2022-03-31    0.074074\n",
      "2022-04-30    0.103448\n",
      "2022-05-31   -0.031250\n",
      "2022-06-30    0.096774\n",
      "2022-07-31    0.058824\n",
      "2022-08-31   -0.027778\n",
      "2022-09-30    0.085714\n",
      "2022-10-31    0.052632\n",
      "2022-11-30    0.050000\n",
      "2022-12-31    0.047619\n",
      "Freq: M, dtype: float64\n"
     ]
    }
   ],
   "source": [
    "#季度的平均销量\n",
    "#resample('QS')：表示按照 季度的起始时间重采样（即每年的 1月、4月、7月、10月开始）。\n",
    "sales.resample('QS').mean()\n",
    "sales.resample('QS').sum() #还可以算季度总和\n",
    "\n",
    "#销量最高的月份\n",
    "print('销量最高的月份：', sales.idxmax())\n",
    "print('月环比的增长率：', sales.pct_change())"
   ],
   "metadata": {
    "collapsed": false,
    "pycharm": {
     "name": "#%%\n"
    }
   }
  },
  {
   "cell_type": "code",
   "execution_count": 137,
   "outputs": [
    {
     "data": {
      "text/plain": "[Timestamp('2022-04-30 00:00:00'),\n Timestamp('2022-11-30 00:00:00'),\n Timestamp('2022-12-31 00:00:00')]"
     },
     "execution_count": 137,
     "metadata": {},
     "output_type": "execute_result"
    }
   ],
   "source": [
    "#找出连续增长超过2个月的月份\n",
    "a = sales.pct_change();\n",
    "b = a > 0\n",
    "b[b.rolling(3).sum()==3].keys().tolist() #滑动窗口"
   ],
   "metadata": {
    "collapsed": false,
    "pycharm": {
     "name": "#%%\n"
    }
   }
  },
  {
   "cell_type": "code",
   "execution_count": 147,
   "outputs": [
    {
     "name": "stdout",
     "output_type": "stream",
     "text": [
      "营业时间的销售额是： 709\n",
      "非营业时间销售额： 496\n",
      "比例为： 1.6995768688293371\n"
     ]
    }
   ],
   "source": [
    "#练习：某商店每小时销售额Series：\n",
    "# 按天重采样计算每日总销售额\n",
    "# 计算每天营业时间（8:00-22:00）和非营业时间的销售额比例\n",
    "# 找出销售额最高的3个小时\n",
    "\n",
    "\n",
    "np.random.seed(42)\n",
    "hourly_sales = pd.Series(np.random.randint(0, 100, 24),\n",
    "                        index=pd.date_range('2025-01-01', periods=24, freq='H'))\n",
    "day_sales = hourly_sales.resample('D').sum() #按天重采样：D\n",
    "sales_open = hourly_sales.between_time('8:00','22:00').sum()\n",
    "print('营业时间的销售额是：', sales_open)\n",
    "print(\"非营业时间销售额：\", (day_sales - sales_open).sum())\n",
    "print('比例为：', (day_sales / sales_open).sum())"
   ],
   "metadata": {
    "collapsed": false,
    "pycharm": {
     "name": "#%%\n"
    }
   }
  },
  {
   "cell_type": "markdown",
   "source": [],
   "metadata": {
    "collapsed": false,
    "pycharm": {
     "name": "#%% md\n"
    }
   }
  },
  {
   "cell_type": "code",
   "execution_count": 160,
   "outputs": [
    {
     "name": "stdout",
     "output_type": "stream",
     "text": [
      "[11, 1, 17]\n"
     ]
    }
   ],
   "source": [
    "# 找出销售额最高的3个小时\n",
    "#print(hourly_sales)\n",
    "print(hourly_sales.sort_values(ascending=False).head(3).index.hour.tolist())"
   ],
   "metadata": {
    "collapsed": false,
    "pycharm": {
     "name": "#%%\n"
    }
   }
  }
 ],
 "metadata": {
  "kernelspec": {
   "display_name": "Python 3",
   "language": "python",
   "name": "python3"
  },
  "language_info": {
   "codemirror_mode": {
    "name": "ipython",
    "version": 2
   },
   "file_extension": ".py",
   "mimetype": "text/x-python",
   "name": "python",
   "nbconvert_exporter": "python",
   "pygments_lexer": "ipython2",
   "version": "2.7.6"
  }
 },
 "nbformat": 4,
 "nbformat_minor": 0
}
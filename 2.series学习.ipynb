{
 "cells": [
  {
   "cell_type": "code",
   "execution_count": 6,
   "outputs": [
    {
     "name": "stdout",
     "output_type": "stream",
     "text": [
      "0    1\n",
      "1    2\n",
      "2    3\n",
      "3    4\n",
      "4    5\n",
      "dtype: int64\n",
      "A    10\n",
      "B    11\n",
      "C    12\n",
      "D    13\n",
      "dtype: int64\n",
      "A    10\n",
      "B    11\n",
      "C    12\n",
      "D    13\n",
      "Name: 标签, dtype: int64\n"
     ]
    }
   ],
   "source": [
    "#series的创建\n",
    "import numpy as np\n",
    "import pandas as pd\n",
    "s = pd.Series([1, 2, 3, 4, 5])\n",
    "print(s)\n",
    "#自定义索引\n",
    "s = pd.Series([10, 11, 12,13], index=['A','B','C', 'D'])\n",
    "print(s)\n",
    "#定义name\n",
    "s = pd.Series([10, 11, 12,13], index=['A','B','C', 'D'], name = '标签')\n",
    "print(s)"
   ],
   "metadata": {
    "collapsed": false,
    "pycharm": {
     "name": "#%%\n"
    }
   }
  },
  {
   "cell_type": "code",
   "execution_count": 9,
   "outputs": [
    {
     "name": "stdout",
     "output_type": "stream",
     "text": [
      "a    1\n",
      "b    2\n",
      "c    3\n",
      "dtype: int64\n",
      "a    1\n",
      "c    3\n",
      "dtype: int64\n"
     ]
    }
   ],
   "source": [
    "#通过字典来创建\n",
    "s = pd.Series({\"a\":1, \"b\":2, \"c\":3})\n",
    "print(s)\n",
    "#根据已有创建新的\n",
    "s1 = pd.Series(s, index=[\"a\", \"c\"])\n",
    "print(s1)"
   ],
   "metadata": {
    "collapsed": false,
    "pycharm": {
     "name": "#%%\n"
    }
   }
  },
  {
   "cell_type": "code",
   "execution_count": 23,
   "outputs": [
    {
     "name": "stdout",
     "output_type": "stream",
     "text": [
      "Index(['A', 'B', 'C', 'D'], dtype='object')\n",
      "[10 11 12 13]\n",
      "(4,)\n",
      "1\n",
      "4\n",
      "test\n",
      "10\n",
      "10\n",
      "10\n"
     ]
    }
   ],
   "source": [
    "#series的属性\n",
    "s = pd.Series([10, 11, 12,13], index=['A','B','C', 'D'])\n",
    "s.name = \"test\"\n",
    "#print(s)\n",
    "#获取索引\n",
    "print(s.index)\n",
    "#获取值\n",
    "print(s.values)\n",
    "#获取形状\n",
    "print(s.shape)\n",
    "print(s.ndim)\n",
    "print(s.size)\n",
    "print(s.name)\n",
    "\n",
    "#获取\n",
    "print(s.loc['A']) #获取标签获取值,可以切片\n",
    "print(s.iloc[0])  #隐式索引\n",
    "print(s.at['A'])  #不支持切片"
   ],
   "metadata": {
    "collapsed": false,
    "pycharm": {
     "name": "#%%\n"
    }
   }
  },
  {
   "cell_type": "code",
   "execution_count": 34,
   "outputs": [
    {
     "name": "stdout",
     "output_type": "stream",
     "text": [
      "A    10\n",
      "B    11\n",
      "C    12\n",
      "D    13\n",
      "Name: test, dtype: int64\n",
      "A    10\n",
      "B    11\n",
      "C    12\n",
      "D    13\n",
      "Name: test, dtype: int64\n"
     ]
    }
   ],
   "source": [
    "#访问数据\n",
    "# print(s[0])\n",
    "# print(s['A'])\n",
    "# print(s[s<12])\n",
    "print(s.head())  #只打印前5行\n",
    "print(s.tail())  #查看后5行"
   ],
   "metadata": {
    "collapsed": false,
    "pycharm": {
     "name": "#%%\n"
    }
   }
  },
  {
   "cell_type": "code",
   "execution_count": 40,
   "outputs": [
    {
     "name": "stdout",
     "output_type": "stream",
     "text": [
      "A    1.0\n",
      "B    2.0\n",
      "C    3.0\n",
      "D    NaN\n",
      "E    4.0\n",
      "F    5.0\n",
      "dtype: float64\n"
     ]
    }
   ],
   "source": [
    "#常见函数\n",
    "import numpy as np\n",
    "s = pd.Series([1, 2, 3, np.nan, 4, 5], index=['A', 'B', 'C', 'D', 'E', 'F'])\n",
    "print(s)"
   ],
   "metadata": {
    "collapsed": false,
    "pycharm": {
     "name": "#%%\n"
    }
   }
  },
  {
   "cell_type": "code",
   "execution_count": 42,
   "outputs": [
    {
     "data": {
      "text/plain": "B    2.0\nC    3.0\nD    NaN\nE    4.0\nF    5.0\ndtype: float64"
     },
     "execution_count": 42,
     "metadata": {},
     "output_type": "execute_result"
    }
   ],
   "source": [
    "s.head()  #默认取前五行数据\n",
    "s.tail()  #默认取后五行数据\n"
   ],
   "metadata": {
    "collapsed": false,
    "pycharm": {
     "name": "#%%\n"
    }
   }
  }
 ],
 "metadata": {
  "kernelspec": {
   "display_name": "Python 3",
   "language": "python",
   "name": "python3"
  },
  "language_info": {
   "codemirror_mode": {
    "name": "ipython",
    "version": 2
   },
   "file_extension": ".py",
   "mimetype": "text/x-python",
   "name": "python",
   "nbconvert_exporter": "python",
   "pygments_lexer": "ipython2",
   "version": "2.7.6"
  }
 },
 "nbformat": 4,
 "nbformat_minor": 0
}
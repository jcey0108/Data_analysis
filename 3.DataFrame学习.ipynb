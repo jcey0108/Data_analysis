{
 "cells": [
  {
   "cell_type": "code",
   "execution_count": 5,
   "outputs": [
    {
     "name": "stdout",
     "output_type": "stream",
     "text": [
      "<class 'pandas.core.frame.DataFrame'>\n",
      "<class 'pandas.core.series.Series'>\n",
      "   第一列  第二列\n",
      "0    1    6\n",
      "1    2    7\n",
      "2    3    8\n",
      "3    4    9\n",
      "4    5   10\n"
     ]
    }
   ],
   "source": [
    "#DataFrame的创建方法\n",
    "import pandas as pd\n",
    "import numpy as np\n",
    "\n",
    "#通过series来创建\n",
    "s1 = pd.Series([1, 2, 3, 4, 5])\n",
    "s2 = pd.Series([6, 7, 8, 9, 10])\n",
    "df = pd.DataFrame({\"第一列\":s1, \"第二列\":s2})\n",
    "print(type(df))\n",
    "print(type(df['第一列']))\n",
    "print(df)"
   ],
   "metadata": {
    "collapsed": false,
    "pycharm": {
     "name": "#%%\n"
    }
   }
  },
  {
   "cell_type": "code",
   "execution_count": 14,
   "outputs": [
    {
     "name": "stdout",
     "output_type": "stream",
     "text": [
      "    name  age  score\n",
      "1    Tom   15   60.5\n",
      "2   jack   17   80.0\n",
      "3  alice   20   30.5\n",
      "4    bob   26   22.0\n",
      "5  allen   30  100.0\n"
     ]
    }
   ],
   "source": [
    "#通过字典创建\n",
    "df = pd.DataFrame(\n",
    "    {\n",
    "        #\"id\":[1,2,3,4,5],\n",
    "        \"name\":['Tom', 'jack', 'alice', 'bob', 'allen'],\n",
    "        \"age\":[15, 17, 20,26,30],\n",
    "        \"score\":[60.5, 80, 30.5, 22, 100]\n",
    "    }, index=[1, 2, 3, 4, 5], columns=[\"name\",\"age\", \"score\"]\n",
    ")\n",
    "print(df)"
   ],
   "metadata": {
    "collapsed": false,
    "pycharm": {
     "name": "#%%\n"
    }
   }
  },
  {
   "cell_type": "code",
   "execution_count": 19,
   "outputs": [
    {
     "name": "stdout",
     "output_type": "stream",
     "text": [
      "行索引\n",
      "Int64Index([1, 2, 3, 4, 5], dtype='int64')\n",
      "列标签\n",
      "['name', 'age', 'score']\n",
      "值\n",
      "[['Tom' 15 60.5]\n",
      " ['jack' 17 80.0]\n",
      " ['alice' 20 30.5]\n",
      " ['bob' 26 22.0]\n",
      " ['allen' 30 100.0]]\n"
     ]
    }
   ],
   "source": [
    "#DataFrame属性\n",
    "print('行索引')\n",
    "print(df.index)\n",
    "print('列标签')\n",
    "print(df.columns.tolist())\n",
    "print('值')\n",
    "print(df.values)"
   ],
   "metadata": {
    "collapsed": false,
    "pycharm": {
     "name": "#%%\n"
    }
   }
  },
  {
   "cell_type": "code",
   "execution_count": 26,
   "outputs": [
    {
     "name": "stdout",
     "output_type": "stream",
     "text": [
      "维度: 2\n",
      "形状: (5, 3)\n",
      "元素个数 15\n",
      "数据类型\n"
     ]
    },
    {
     "data": {
      "text/plain": "name      object\nage        int64\nscore    float64\ndtype: object"
     },
     "execution_count": 26,
     "metadata": {},
     "output_type": "execute_result"
    }
   ],
   "source": [
    "print('维度:', df.ndim)\n",
    "print('形状:', df.shape)  #5行3列\n",
    "print('元素个数', df.size)\n",
    "print('数据类型')\n",
    "df.dtypes"
   ],
   "metadata": {
    "collapsed": false,
    "pycharm": {
     "name": "#%%\n"
    }
   }
  },
  {
   "cell_type": "code",
   "execution_count": 31,
   "outputs": [
    {
     "name": "stdout",
     "output_type": "stream",
     "text": [
      "          1     2      3     4      5\n",
      "name    Tom  jack  alice   bob  allen\n",
      "age      15    17     20    26     30\n",
      "score  60.5  80.0   30.5  22.0  100.0\n",
      "--\n",
      "Index(['name', 'age', 'score'], dtype='object')\n"
     ]
    }
   ],
   "source": [
    "#行列转置\n",
    "print(df.T)\n",
    "print('--')\n",
    "print(df.T.index)"
   ],
   "metadata": {
    "collapsed": false,
    "pycharm": {
     "name": "#%%\n"
    }
   }
  },
  {
   "cell_type": "code",
   "execution_count": 141,
   "outputs": [
    {
     "ename": "KeyError",
     "evalue": "4",
     "output_type": "error",
     "traceback": [
      "\u001B[0;31m---------------------------------------------------------------------------\u001B[0m",
      "\u001B[0;31mValueError\u001B[0m                                Traceback (most recent call last)",
      "File \u001B[0;32m/opt/anaconda3/lib/python3.9/site-packages/pandas/core/indexes/range.py:385\u001B[0m, in \u001B[0;36mRangeIndex.get_loc\u001B[0;34m(self, key, method, tolerance)\u001B[0m\n\u001B[1;32m    384\u001B[0m \u001B[38;5;28;01mtry\u001B[39;00m:\n\u001B[0;32m--> 385\u001B[0m     \u001B[38;5;28;01mreturn\u001B[39;00m \u001B[38;5;28;43mself\u001B[39;49m\u001B[38;5;241;43m.\u001B[39;49m\u001B[43m_range\u001B[49m\u001B[38;5;241;43m.\u001B[39;49m\u001B[43mindex\u001B[49m\u001B[43m(\u001B[49m\u001B[43mnew_key\u001B[49m\u001B[43m)\u001B[49m\n\u001B[1;32m    386\u001B[0m \u001B[38;5;28;01mexcept\u001B[39;00m \u001B[38;5;167;01mValueError\u001B[39;00m \u001B[38;5;28;01mas\u001B[39;00m err:\n",
      "\u001B[0;31mValueError\u001B[0m: 4 is not in range",
      "\nThe above exception was the direct cause of the following exception:\n",
      "\u001B[0;31mKeyError\u001B[0m                                  Traceback (most recent call last)",
      "Input \u001B[0;32mIn [141]\u001B[0m, in \u001B[0;36m<cell line: 3>\u001B[0;34m()\u001B[0m\n\u001B[1;32m      1\u001B[0m \u001B[38;5;66;03m#获取元素 loc, iloc, at, iat\u001B[39;00m\n\u001B[1;32m      2\u001B[0m \u001B[38;5;66;03m#loc:显示索引\u001B[39;00m\n\u001B[0;32m----> 3\u001B[0m \u001B[38;5;28mprint\u001B[39m(\u001B[43mdf\u001B[49m\u001B[38;5;241;43m.\u001B[39;49m\u001B[43mloc\u001B[49m\u001B[43m[\u001B[49m\u001B[38;5;241;43m4\u001B[39;49m\u001B[43m]\u001B[49m) \u001B[38;5;66;03m#显示索引 按照设计的位置\u001B[39;00m\n\u001B[1;32m      4\u001B[0m \u001B[38;5;28mprint\u001B[39m(\u001B[38;5;124m\"\u001B[39m\u001B[38;5;124m--\u001B[39m\u001B[38;5;124m\"\u001B[39m)\n\u001B[1;32m      5\u001B[0m \u001B[38;5;28mprint\u001B[39m(df\u001B[38;5;241m.\u001B[39miloc[\u001B[38;5;241m3\u001B[39m])\n",
      "File \u001B[0;32m/opt/anaconda3/lib/python3.9/site-packages/pandas/core/indexing.py:967\u001B[0m, in \u001B[0;36m_LocationIndexer.__getitem__\u001B[0;34m(self, key)\u001B[0m\n\u001B[1;32m    964\u001B[0m axis \u001B[38;5;241m=\u001B[39m \u001B[38;5;28mself\u001B[39m\u001B[38;5;241m.\u001B[39maxis \u001B[38;5;129;01mor\u001B[39;00m \u001B[38;5;241m0\u001B[39m\n\u001B[1;32m    966\u001B[0m maybe_callable \u001B[38;5;241m=\u001B[39m com\u001B[38;5;241m.\u001B[39mapply_if_callable(key, \u001B[38;5;28mself\u001B[39m\u001B[38;5;241m.\u001B[39mobj)\n\u001B[0;32m--> 967\u001B[0m \u001B[38;5;28;01mreturn\u001B[39;00m \u001B[38;5;28;43mself\u001B[39;49m\u001B[38;5;241;43m.\u001B[39;49m\u001B[43m_getitem_axis\u001B[49m\u001B[43m(\u001B[49m\u001B[43mmaybe_callable\u001B[49m\u001B[43m,\u001B[49m\u001B[43m \u001B[49m\u001B[43maxis\u001B[49m\u001B[38;5;241;43m=\u001B[39;49m\u001B[43maxis\u001B[49m\u001B[43m)\u001B[49m\n",
      "File \u001B[0;32m/opt/anaconda3/lib/python3.9/site-packages/pandas/core/indexing.py:1205\u001B[0m, in \u001B[0;36m_LocIndexer._getitem_axis\u001B[0;34m(self, key, axis)\u001B[0m\n\u001B[1;32m   1203\u001B[0m \u001B[38;5;66;03m# fall thru to straight lookup\u001B[39;00m\n\u001B[1;32m   1204\u001B[0m \u001B[38;5;28mself\u001B[39m\u001B[38;5;241m.\u001B[39m_validate_key(key, axis)\n\u001B[0;32m-> 1205\u001B[0m \u001B[38;5;28;01mreturn\u001B[39;00m \u001B[38;5;28;43mself\u001B[39;49m\u001B[38;5;241;43m.\u001B[39;49m\u001B[43m_get_label\u001B[49m\u001B[43m(\u001B[49m\u001B[43mkey\u001B[49m\u001B[43m,\u001B[49m\u001B[43m \u001B[49m\u001B[43maxis\u001B[49m\u001B[38;5;241;43m=\u001B[39;49m\u001B[43maxis\u001B[49m\u001B[43m)\u001B[49m\n",
      "File \u001B[0;32m/opt/anaconda3/lib/python3.9/site-packages/pandas/core/indexing.py:1153\u001B[0m, in \u001B[0;36m_LocIndexer._get_label\u001B[0;34m(self, label, axis)\u001B[0m\n\u001B[1;32m   1151\u001B[0m \u001B[38;5;28;01mdef\u001B[39;00m \u001B[38;5;21m_get_label\u001B[39m(\u001B[38;5;28mself\u001B[39m, label, axis: \u001B[38;5;28mint\u001B[39m):\n\u001B[1;32m   1152\u001B[0m     \u001B[38;5;66;03m# GH#5667 this will fail if the label is not present in the axis.\u001B[39;00m\n\u001B[0;32m-> 1153\u001B[0m     \u001B[38;5;28;01mreturn\u001B[39;00m \u001B[38;5;28;43mself\u001B[39;49m\u001B[38;5;241;43m.\u001B[39;49m\u001B[43mobj\u001B[49m\u001B[38;5;241;43m.\u001B[39;49m\u001B[43mxs\u001B[49m\u001B[43m(\u001B[49m\u001B[43mlabel\u001B[49m\u001B[43m,\u001B[49m\u001B[43m \u001B[49m\u001B[43maxis\u001B[49m\u001B[38;5;241;43m=\u001B[39;49m\u001B[43maxis\u001B[49m\u001B[43m)\u001B[49m\n",
      "File \u001B[0;32m/opt/anaconda3/lib/python3.9/site-packages/pandas/core/generic.py:3864\u001B[0m, in \u001B[0;36mNDFrame.xs\u001B[0;34m(self, key, axis, level, drop_level)\u001B[0m\n\u001B[1;32m   3862\u001B[0m             new_index \u001B[38;5;241m=\u001B[39m index[loc]\n\u001B[1;32m   3863\u001B[0m \u001B[38;5;28;01melse\u001B[39;00m:\n\u001B[0;32m-> 3864\u001B[0m     loc \u001B[38;5;241m=\u001B[39m \u001B[43mindex\u001B[49m\u001B[38;5;241;43m.\u001B[39;49m\u001B[43mget_loc\u001B[49m\u001B[43m(\u001B[49m\u001B[43mkey\u001B[49m\u001B[43m)\u001B[49m\n\u001B[1;32m   3866\u001B[0m     \u001B[38;5;28;01mif\u001B[39;00m \u001B[38;5;28misinstance\u001B[39m(loc, np\u001B[38;5;241m.\u001B[39mndarray):\n\u001B[1;32m   3867\u001B[0m         \u001B[38;5;28;01mif\u001B[39;00m loc\u001B[38;5;241m.\u001B[39mdtype \u001B[38;5;241m==\u001B[39m np\u001B[38;5;241m.\u001B[39mbool_:\n",
      "File \u001B[0;32m/opt/anaconda3/lib/python3.9/site-packages/pandas/core/indexes/range.py:387\u001B[0m, in \u001B[0;36mRangeIndex.get_loc\u001B[0;34m(self, key, method, tolerance)\u001B[0m\n\u001B[1;32m    385\u001B[0m         \u001B[38;5;28;01mreturn\u001B[39;00m \u001B[38;5;28mself\u001B[39m\u001B[38;5;241m.\u001B[39m_range\u001B[38;5;241m.\u001B[39mindex(new_key)\n\u001B[1;32m    386\u001B[0m     \u001B[38;5;28;01mexcept\u001B[39;00m \u001B[38;5;167;01mValueError\u001B[39;00m \u001B[38;5;28;01mas\u001B[39;00m err:\n\u001B[0;32m--> 387\u001B[0m         \u001B[38;5;28;01mraise\u001B[39;00m \u001B[38;5;167;01mKeyError\u001B[39;00m(key) \u001B[38;5;28;01mfrom\u001B[39;00m \u001B[38;5;21;01merr\u001B[39;00m\n\u001B[1;32m    388\u001B[0m \u001B[38;5;28mself\u001B[39m\u001B[38;5;241m.\u001B[39m_check_indexing_error(key)\n\u001B[1;32m    389\u001B[0m \u001B[38;5;28;01mraise\u001B[39;00m \u001B[38;5;167;01mKeyError\u001B[39;00m(key)\n",
      "\u001B[0;31mKeyError\u001B[0m: 4"
     ]
    }
   ],
   "source": [
    "#获取元素 loc, iloc, at, iat\n",
    "#loc:显示索引\n",
    "print(df.loc[4]) #显示索引 按照设计的位置\n",
    "print(\"--\")\n",
    "print(df.iloc[3]) #隐式索引，和上面结果一样"
   ],
   "metadata": {
    "collapsed": false,
    "pycharm": {
     "name": "#%%\n"
    }
   }
  },
  {
   "cell_type": "code",
   "execution_count": 44,
   "outputs": [
    {
     "name": "stdout",
     "output_type": "stream",
     "text": [
      "    name  age  score\n",
      "1    Tom   15   60.5\n",
      "2   jack   17   80.0\n",
      "3  alice   20   30.5\n",
      "4    bob   26   22.0\n",
      "5  allen   30  100.0\n",
      "1      Tom\n",
      "2     jack\n",
      "3    alice\n",
      "4      bob\n",
      "5    allen\n",
      "Name: name, dtype: object\n",
      "1      Tom\n",
      "2     jack\n",
      "3    alice\n",
      "4      bob\n",
      "5    allen\n",
      "Name: name, dtype: object\n"
     ]
    }
   ],
   "source": [
    "#某列\n",
    "\n",
    "print(df.loc[:, 'name']) # 显式 所有行都要，列要'name'\n",
    "print(df.iloc[:, 0]) #隐式索引"
   ],
   "metadata": {
    "collapsed": false,
    "pycharm": {
     "name": "#%%\n"
    }
   }
  },
  {
   "cell_type": "code",
   "execution_count": 47,
   "outputs": [
    {
     "name": "stdout",
     "output_type": "stream",
     "text": [
      "    name  age  score\n",
      "1    Tom   15   60.5\n",
      "2   jack   17   80.0\n",
      "3  alice   20   30.5\n",
      "4    bob   26   22.0\n",
      "5  allen   30  100.0\n",
      "30.5\n",
      "30.5\n"
     ]
    }
   ],
   "source": [
    "#获取单个数据\n",
    "\n",
    "df = pd.DataFrame(\n",
    "    {\n",
    "        #\"id\":[1,2,3,4,5],\n",
    "        \"name\":['Tom', 'jack', 'alice', 'bob', 'allen'],\n",
    "        \"age\":[15, 17, 20,26,30],\n",
    "        \"score\":[60.5, 80, 30.5, 22, 100]\n",
    "    }, index=[1, 2, 3, 4, 5], columns=[\"name\",\"age\", \"score\"]\n",
    ")\n",
    "print(df)\n",
    "\n",
    "print(df.at[3, 'score'])  #显式\n",
    "print(df.iat[2, 2]) #隐式"
   ],
   "metadata": {
    "collapsed": false,
    "pycharm": {
     "name": "#%%\n"
    }
   }
  },
  {
   "cell_type": "code",
   "execution_count": 51,
   "outputs": [
    {
     "name": "stdout",
     "output_type": "stream",
     "text": [
      "1      Tom\n",
      "2     jack\n",
      "3    alice\n",
      "4      bob\n",
      "5    allen\n",
      "Name: name, dtype: object\n",
      "<class 'pandas.core.series.Series'>\n",
      "1      Tom\n",
      "2     jack\n",
      "3    alice\n",
      "4      bob\n",
      "5    allen\n",
      "Name: name, dtype: object\n"
     ]
    }
   ],
   "source": [
    "#获取单列数据\n",
    "print(df['name'])\n",
    "print(type(df['name']))\n",
    "print(df.name)"
   ],
   "metadata": {
    "collapsed": false,
    "pycharm": {
     "name": "#%%\n"
    }
   }
  },
  {
   "cell_type": "code",
   "execution_count": 54,
   "outputs": [
    {
     "name": "stdout",
     "output_type": "stream",
     "text": [
      "    name  score\n",
      "1    Tom   60.5\n",
      "2   jack   80.0\n",
      "3  alice   30.5\n",
      "4    bob   22.0\n",
      "5  allen  100.0\n"
     ]
    }
   ],
   "source": [
    "#获取多列数据\n",
    "print(df[['name', 'score']]) #注意，两个中括号，返回的数据是DataFrame类型"
   ],
   "metadata": {
    "collapsed": false,
    "pycharm": {
     "name": "#%%\n"
    }
   }
  },
  {
   "cell_type": "code",
   "execution_count": 57,
   "outputs": [
    {
     "name": "stdout",
     "output_type": "stream",
     "text": [
      "   name  age  score\n",
      "1   Tom   15   60.5\n",
      "2  jack   17   80.0\n",
      "--\n",
      "    name  age  score\n",
      "4    bob   26   22.0\n",
      "5  allen   30  100.0\n"
     ]
    }
   ],
   "source": [
    "#查看部分数据\n",
    "print(df.head(2))\n",
    "print('--')\n",
    "print(df.tail(2))"
   ],
   "metadata": {
    "collapsed": false,
    "pycharm": {
     "name": "#%%\n"
    }
   }
  },
  {
   "cell_type": "code",
   "execution_count": 61,
   "outputs": [
    {
     "data": {
      "text/plain": "   name  age  score\n2  jack   17   80.0",
      "text/html": "<div>\n<style scoped>\n    .dataframe tbody tr th:only-of-type {\n        vertical-align: middle;\n    }\n\n    .dataframe tbody tr th {\n        vertical-align: top;\n    }\n\n    .dataframe thead th {\n        text-align: right;\n    }\n</style>\n<table border=\"1\" class=\"dataframe\">\n  <thead>\n    <tr style=\"text-align: right;\">\n      <th></th>\n      <th>name</th>\n      <th>age</th>\n      <th>score</th>\n    </tr>\n  </thead>\n  <tbody>\n    <tr>\n      <th>2</th>\n      <td>jack</td>\n      <td>17</td>\n      <td>80.0</td>\n    </tr>\n  </tbody>\n</table>\n</div>"
     },
     "execution_count": 61,
     "metadata": {},
     "output_type": "execute_result"
    }
   ],
   "source": [
    "#使用布尔索引进行筛选数据\n",
    "df[df.score>70]\n",
    "df[(df.score > 70) & (df.age < 20)]"
   ],
   "metadata": {
    "collapsed": false,
    "pycharm": {
     "name": "#%%\n"
    }
   }
  },
  {
   "cell_type": "code",
   "execution_count": 63,
   "outputs": [
    {
     "data": {
      "text/plain": "    name  age  score\n1    Tom   15   60.5\n5  allen   30  100.0\n3  alice   20   30.5",
      "text/html": "<div>\n<style scoped>\n    .dataframe tbody tr th:only-of-type {\n        vertical-align: middle;\n    }\n\n    .dataframe tbody tr th {\n        vertical-align: top;\n    }\n\n    .dataframe thead th {\n        text-align: right;\n    }\n</style>\n<table border=\"1\" class=\"dataframe\">\n  <thead>\n    <tr style=\"text-align: right;\">\n      <th></th>\n      <th>name</th>\n      <th>age</th>\n      <th>score</th>\n    </tr>\n  </thead>\n  <tbody>\n    <tr>\n      <th>1</th>\n      <td>Tom</td>\n      <td>15</td>\n      <td>60.5</td>\n    </tr>\n    <tr>\n      <th>5</th>\n      <td>allen</td>\n      <td>30</td>\n      <td>100.0</td>\n    </tr>\n    <tr>\n      <th>3</th>\n      <td>alice</td>\n      <td>20</td>\n      <td>30.5</td>\n    </tr>\n  </tbody>\n</table>\n</div>"
     },
     "execution_count": 63,
     "metadata": {},
     "output_type": "execute_result"
    }
   ],
   "source": [
    "#随机抽样\n",
    "df.sample(3)"
   ],
   "metadata": {
    "collapsed": false,
    "pycharm": {
     "name": "#%%\n"
    }
   }
  },
  {
   "cell_type": "code",
   "execution_count": 66,
   "outputs": [
    {
     "name": "stdout",
     "output_type": "stream",
     "text": [
      "  name  age  score\n",
      "1  Tom   15   60.5\n"
     ]
    }
   ],
   "source": [
    "print(df.head(1)) #查看前n行数据，默认5行"
   ],
   "metadata": {
    "collapsed": false,
    "pycharm": {
     "name": "#%%\n"
    }
   }
  },
  {
   "cell_type": "code",
   "execution_count": 74,
   "outputs": [
    {
     "ename": "SyntaxError",
     "evalue": "unexpected EOF while parsing (3472473464.py, line 6)",
     "output_type": "error",
     "traceback": [
      "\u001B[0;36m  Input \u001B[0;32mIn [74]\u001B[0;36m\u001B[0m\n\u001B[0;31m    print(df.describe()\u001B[0m\n\u001B[0m                       ^\u001B[0m\n\u001B[0;31mSyntaxError\u001B[0m\u001B[0;31m:\u001B[0m unexpected EOF while parsing\n"
     ]
    }
   ],
   "source": [
    "print(df.isin(['jack']))  #查看元素是否包含在参数集合中\n",
    "\n",
    "print(df['score'].sum())\n",
    "print(df.score.std()) #标准差\n",
    "print(df.score.var()) #方差\n",
    "print(df.describe())"
   ],
   "metadata": {
    "collapsed": false,
    "pycharm": {
     "name": "#%%\n"
    }
   }
  },
  {
   "cell_type": "code",
   "execution_count": 76,
   "outputs": [
    {
     "name": "stdout",
     "output_type": "stream",
     "text": [
      "name     5\n",
      "age      5\n",
      "score    5\n",
      "dtype: int64\n"
     ]
    }
   ],
   "source": [
    "print(df.count())  #每一列非缺失值的个数"
   ],
   "metadata": {
    "collapsed": false,
    "pycharm": {
     "name": "#%%\n"
    }
   }
  },
  {
   "cell_type": "code",
   "execution_count": 78,
   "outputs": [
    {
     "name": "stdout",
     "output_type": "stream",
     "text": [
      "    name  age  score\n",
      "5  allen   30  100.0\n",
      "4    bob   26   22.0\n",
      "3  alice   20   30.5\n",
      "2   jack   17   80.0\n",
      "1    Tom   15   60.5\n"
     ]
    }
   ],
   "source": [
    "print(df.sort_index(ascending=False))"
   ],
   "metadata": {
    "collapsed": false,
    "pycharm": {
     "name": "#%%\n"
    }
   }
  },
  {
   "cell_type": "code",
   "execution_count": 81,
   "outputs": [
    {
     "name": "stdout",
     "output_type": "stream",
     "text": [
      "    name  age  score\n",
      "5  allen   30  100.0\n",
      "2   jack   17   80.0\n",
      "1    Tom   15   60.5\n",
      "3  alice   20   30.5\n",
      "4    bob   26   22.0\n"
     ]
    }
   ],
   "source": [
    "print(df.sort_values(by=['score', 'age'],ascending=[False, True]))"
   ],
   "metadata": {
    "collapsed": false,
    "pycharm": {
     "name": "#%%\n"
    }
   }
  },
  {
   "cell_type": "markdown",
   "source": [],
   "metadata": {
    "collapsed": false,
    "pycharm": {
     "name": "#%% md\n"
    }
   }
  },
  {
   "cell_type": "code",
   "execution_count": 83,
   "outputs": [
    {
     "name": "stdout",
     "output_type": "stream",
     "text": [
      "    name  age  score\n",
      "5  allen   30  100.0\n",
      "2   jack   17   80.0\n"
     ]
    }
   ],
   "source": [
    "#从 df 中选出前 n 个最大值的行，按 col1 为主，col2 为辅 进行降序排序。\n",
    "print(df.nlargest(2, columns=['score','age']))"
   ],
   "metadata": {
    "collapsed": false,
    "pycharm": {
     "name": "#%%\n"
    }
   }
  },
  {
   "cell_type": "code",
   "execution_count": 121,
   "outputs": [
    {
     "name": "stdout",
     "output_type": "stream",
     "text": [
      "   姓名  数学  英语  物理\n",
      "0  张三  85  90  75\n",
      "1  李四  92  88  80\n",
      "2  王五  78  85  88\n",
      "3  赵六  88  92  85\n",
      "4  钱七  95  80  90\n",
      "   姓名  数学  英语  物理   总分        平均分       平均分2\n",
      "3  赵六  88  92  85  265  88.333333  88.333333\n",
      "4  钱七  95  80  90  265  88.333333  88.333333\n",
      "1  李四  92  88  80  260  86.666667  86.666667\n",
      "   姓名  数学  英语  物理   总分        平均分       平均分2\n",
      "3  赵六  88  92  85  265  88.333333  88.333333\n",
      "4  钱七  95  80  90  265  88.333333  88.333333\n",
      "1  李四  92  88  80  260  86.666667  86.666667\n"
     ]
    }
   ],
   "source": [
    "#练习1：学生成绩分析\n",
    "# 场景:某班级的学生成绩数据如下，请完成以下任务:\n",
    "# 1.计算每位学生的总分和平均分。\n",
    "# 2.找出数学成绩高于90分或英语成绩高于85分的学生。\n",
    "# 3.按总分从高到低排序，并输出前3名学生。\n",
    "\n",
    "import pandas as pd\n",
    "data = {\n",
    "    '姓名': ['张三', '李四', '王五', '赵六', '钱七'],\n",
    "    '数学': [85, 92, 78, 88, 95],\n",
    "    '英语': [90, 88, 85, 92, 80],\n",
    "    '物理': [75, 80, 88, 85, 90]\n",
    "}#data是字典\n",
    "\n",
    "\n",
    "#1.总分和平均分\n",
    "df = pd.DataFrame(data)\n",
    "print(df)\n",
    "\n",
    "#df[['数学','英语','物理']].sum() #默认是竖着求和\n",
    "df['总分'] = df[['数学','英语','物理']].sum(axis=1)  #横着\n",
    "df['平均分'] = df['总分'] / 3\n",
    "df['平均分2'] = df[['数学','英语','物理']].mean(axis=1)\n",
    "df\n",
    "#2.找出数学成绩高于90分或英语成绩高于85分的学生。\n",
    "df[(df['数学'] > 90) | (df['英语'] > 85)]\n",
    "\n",
    "#3.按总分从高到低排序，并输出前3名学生。\n",
    "r1 = df.sort_values('总分', ascending=False).head(3)\n",
    "r2 = df.nlargest(3, columns='总分')\n",
    "\n",
    "print(r1)\n",
    "print(r2)"
   ],
   "metadata": {
    "collapsed": false,
    "pycharm": {
     "name": "#%%\n"
    }
   }
  },
  {
   "cell_type": "code",
   "execution_count": 139,
   "outputs": [
    {
     "name": "stdout",
     "output_type": "stream",
     "text": [
      "  产品名称   单价  销量\n",
      "0    A  100  50\n",
      "1    B  150  30\n",
      "2    C  200  20\n",
      "3    D  120  40\n",
      "['A']\n"
     ]
    },
    {
     "data": {
      "text/plain": "  产品名称   单价  销量  总销售额\n0    A  100  50  5000\n3    D  120  40  4800\n1    B  150  30  4500\n2    C  200  20  4000",
      "text/html": "<div>\n<style scoped>\n    .dataframe tbody tr th:only-of-type {\n        vertical-align: middle;\n    }\n\n    .dataframe tbody tr th {\n        vertical-align: top;\n    }\n\n    .dataframe thead th {\n        text-align: right;\n    }\n</style>\n<table border=\"1\" class=\"dataframe\">\n  <thead>\n    <tr style=\"text-align: right;\">\n      <th></th>\n      <th>产品名称</th>\n      <th>单价</th>\n      <th>销量</th>\n      <th>总销售额</th>\n    </tr>\n  </thead>\n  <tbody>\n    <tr>\n      <th>0</th>\n      <td>A</td>\n      <td>100</td>\n      <td>50</td>\n      <td>5000</td>\n    </tr>\n    <tr>\n      <th>3</th>\n      <td>D</td>\n      <td>120</td>\n      <td>40</td>\n      <td>4800</td>\n    </tr>\n    <tr>\n      <th>1</th>\n      <td>B</td>\n      <td>150</td>\n      <td>30</td>\n      <td>4500</td>\n    </tr>\n    <tr>\n      <th>2</th>\n      <td>C</td>\n      <td>200</td>\n      <td>20</td>\n      <td>4000</td>\n    </tr>\n  </tbody>\n</table>\n</div>"
     },
     "execution_count": 139,
     "metadata": {},
     "output_type": "execute_result"
    }
   ],
   "source": [
    "#练习2：某公司销售数据如下，请完成以下任务：\n",
    "# 1.\t计算每种产品的总销售额（销售额 = 单价 × 销量）。\n",
    "# 2.\t找出销售额最高的产品。\n",
    "# 3.\t按销售额从高到低排序，并输出所有产品信息。\n",
    "\n",
    "import pandas as pd\n",
    "data = {\n",
    "    '产品名称': ['A', 'B', 'C', 'D'],\n",
    "    '单价': [100, 150, 200, 120],\n",
    "    '销量': [50, 30, 20, 40]\n",
    "}\n",
    "\n",
    "df = pd.DataFrame(data)\n",
    "print(df)\n",
    "\n",
    "#1.计算每种产品的总销售额（销售额 = 单价 × 销量）。\n",
    "\n",
    "df['总销售额'] = df['单价'] * df['销量']\n",
    "df\n",
    "\n",
    "#2.找出销售额最高的产品。\n",
    "r1 = df.sort_values('总销售额',ascending=False).head(1)['产品名称']\n",
    "print(r1.tolist())\n",
    "\n",
    "#3.按销售额从高到低排序，并输出所有产品信息。\n",
    "df.sort_values('总销售额',ascending=False)"
   ],
   "metadata": {
    "collapsed": false,
    "pycharm": {
     "name": "#%%\n"
    }
   }
  },
  {
   "cell_type": "code",
   "execution_count": null,
   "outputs": [],
   "source": [],
   "metadata": {
    "collapsed": false,
    "pycharm": {
     "name": "#%%\n"
    }
   }
  }
 ],
 "metadata": {
  "kernelspec": {
   "display_name": "Python 3",
   "language": "python",
   "name": "python3"
  },
  "language_info": {
   "codemirror_mode": {
    "name": "ipython",
    "version": 2
   },
   "file_extension": ".py",
   "mimetype": "text/x-python",
   "name": "python",
   "nbconvert_exporter": "python",
   "pygments_lexer": "ipython2",
   "version": "2.7.6"
  }
 },
 "nbformat": 4,
 "nbformat_minor": 0
}